{
 "cells": [
  {
   "cell_type": "code",
   "execution_count": 1,
   "id": "1c28bd21-89fd-4f29-b70e-40f3a01501f6",
   "metadata": {},
   "outputs": [],
   "source": [
    "import torch\n",
    "import torchaudio\n",
    "import sys\n",
    "import os"
   ]
  },
  {
   "cell_type": "code",
   "execution_count": 5,
   "id": "ec76ec1f-aa01-4ba4-b281-ce7fbed3947e",
   "metadata": {},
   "outputs": [],
   "source": [
    "HOME_PATH = \"/home/223C1851Rodrigo\" # path where you cloned musicfm\n",
    "sys.path.append(HOME_PATH)\n",
    "from all_in_one.src.allin1.models.allinone import AllInOne\n"
   ]
  },
  {
   "cell_type": "code",
   "execution_count": 6,
   "id": "e96d24e0-2c4a-4063-8b09-15a587b41c9d",
   "metadata": {},
   "outputs": [],
   "source": [
    "from all_in_one.src.allin1.config import Config\n",
    "from hydra.core.config_store import ConfigStore\n",
    "from all_in_one.src.allin1.config import HarmonixConfig\n",
    "from all_in_one.src.allin1.config import DataConfig\n",
    "\n",
    "cs = ConfigStore.instance()\n",
    "cs.store(name='config', node=Config)\n",
    "cs.store(group='data', name=HarmonixConfig.name, node=HarmonixConfig)\n",
    "cs.store(name=HarmonixConfig.name, node=HarmonixConfig)\n"
   ]
  },
  {
   "cell_type": "code",
   "execution_count": 7,
   "id": "d4df522f-30cf-451c-b9cc-263eec16bfed",
   "metadata": {
    "scrolled": true
   },
   "outputs": [
    {
     "name": "stdout",
     "output_type": "stream",
     "text": [
      "debug: false\n",
      "sanity_check: false\n",
      "sanity_check_size: 1\n",
      "offline: false\n",
      "case: null\n",
      "model: allinone\n",
      "data:\n",
      "  name: harmonix\n",
      "  demixed: true\n",
      "  num_instruments: 4\n",
      "  num_labels: 10\n",
      "  path_base_dir: ./data/harmonix/\n",
      "  path_track_dir: ./data/harmonix/tracks/\n",
      "  path_demix_dir: ./data/harmonix/demix/\n",
      "  path_feature_dir: ./data/harmonix/features/\n",
      "  path_no_demixed_feature_dir: ./data/harmonix/features_no_demixed/\n",
      "  duration_min: 76.0\n",
      "  duration_max: 660.0\n",
      "  demucs_model: htdemucs\n",
      "  path_metadata: ./data/harmonix/metadata.csv\n",
      "sample_rate: 44100\n",
      "window_size: 2048\n",
      "num_bands: 12\n",
      "hop_size: 441\n",
      "fps: 100\n",
      "fmin: 30\n",
      "fmax: 17000\n",
      "demucs_model: htdemucs\n",
      "learn_rhythm: true\n",
      "learn_structure: true\n",
      "learn_segment: true\n",
      "learn_label: true\n",
      "segment_size: 300.0\n",
      "batch_size: 1\n",
      "optimizer: radam\n",
      "sched: plateau\n",
      "lookahead: false\n",
      "lr: 0.005\n",
      "warmup_lr: 1.0e-05\n",
      "warmup_epochs: 0\n",
      "cooldown_epochs: 0\n",
      "min_lr: 1.0e-07\n",
      "max_epochs: -1\n",
      "decay_rate: 0.3\n",
      "patience_epochs: 5\n",
      "eval_metric: val/loss\n",
      "epochs: 10\n",
      "validation_interval_epochs: 3\n",
      "early_stopping_patience: 10\n",
      "weight_decay: 0.00025\n",
      "swa_lr: 0.15\n",
      "gradient_clip: 0.5\n",
      "threshold_beat: 0.19\n",
      "threshold_downbeat: 0.19\n",
      "threshold_section: 0.05\n",
      "best_threshold_beat: null\n",
      "best_threshold_downbeat: null\n",
      "instrument_attention: true\n",
      "double_attention: true\n",
      "depth: 11\n",
      "dilation_factor: 2\n",
      "dilation_max: 3200\n",
      "num_heads: 2\n",
      "kernel_size: 5\n",
      "dim_input: 81\n",
      "dim_embed: 24\n",
      "mlp_ratio: 4.0\n",
      "qkv_bias: true\n",
      "drop_conv: 0.2\n",
      "drop_path: 0.1\n",
      "drop_hidden: 0.2\n",
      "drop_attention: 0.2\n",
      "drop_last: 0.0\n",
      "act_conv: elu\n",
      "act_transformer: gelu\n",
      "layer_norm_eps: 1.0e-05\n",
      "loss_weight_beat: 1.0\n",
      "loss_weight_downbeat: 3.0\n",
      "loss_weight_section: 15.0\n",
      "loss_weight_function: 0.1\n",
      "seed: 1234\n",
      "fold: 2\n",
      "aafold: null\n",
      "total_folds: 8\n",
      "bpm_min: 55\n",
      "bpm_max: 240\n",
      "min_hops_per_beat: 24\n",
      "\n",
      "{'name': 'harmonix', 'demixed': True, 'num_instruments': 4, 'num_labels': 10, 'path_base_dir': './data/harmonix/', 'path_track_dir': './data/harmonix/tracks/', 'path_demix_dir': './data/harmonix/demix/', 'path_feature_dir': './data/harmonix/features/', 'path_no_demixed_feature_dir': './data/harmonix/features_no_demixed/', 'duration_min': 76.0, 'duration_max': 660.0, 'demucs_model': 'htdemucs', 'path_metadata': './data/harmonix/metadata.csv'}\n"
     ]
    },
    {
     "name": "stderr",
     "output_type": "stream",
     "text": [
      "/tmp/ipykernel_2302897/1221297785.py:5: UserWarning: \n",
      "The version_base parameter is not specified.\n",
      "Please specify a compatability version level, or None.\n",
      "Will assume defaults for version 1.1\n",
      "  initialize(config_path=None)  # Provide the config_path if your config files are in a specific folder.\n"
     ]
    }
   ],
   "source": [
    "from hydra import compose, initialize\n",
    "from omegaconf import OmegaConf\n",
    "\n",
    "# Initialize Hydra (typically, you'll pass in the config path, but it's not needed if defaults are inline)\n",
    "initialize(config_path=None)  # Provide the config_path if your config files are in a specific folder.\n",
    "\n",
    "# Compose the configuration with the default 'config' settings\n",
    "cfg = compose(config_name='config')\n",
    "\n",
    "# Print out the resolved config to check the 'data' field\n",
    "print(OmegaConf.to_yaml(cfg))\n",
    "\n",
    "# Now check the values of `cfg.data`\n",
    "print(cfg.data)\n"
   ]
  },
  {
   "cell_type": "code",
   "execution_count": 8,
   "id": "a3f59fde-489b-4017-8951-1da566735698",
   "metadata": {},
   "outputs": [
    {
     "name": "stderr",
     "output_type": "stream",
     "text": [
      "/home/223C1851Rodrigo/.local/lib/python3.10/site-packages/huggingface_hub/file_download.py:1132: FutureWarning: `resume_download` is deprecated and will be removed in version 1.0.0. Downloads always resume when possible. If you want to force a new download, use `force_download=True`.\n",
      "  warnings.warn(\n"
     ]
    }
   ],
   "source": [
    "modelo= AllInOne(cfg=cfg)"
   ]
  },
  {
   "cell_type": "code",
   "execution_count": 9,
   "id": "a9a46e8c-f126-4c2d-a34a-d7f629bbc6a5",
   "metadata": {},
   "outputs": [
    {
     "name": "stderr",
     "output_type": "stream",
     "text": [
      "/home/223C1851Rodrigo/.local/lib/python3.10/site-packages/torch/cuda/__init__.py:118: UserWarning: CUDA initialization: Unexpected error from cudaGetDeviceCount(). Did you run some cuda functions before calling NumCudaDevices() that might have already set an error? Error 804: forward compatibility was attempted on non supported HW (Triggered internally at ../c10/cuda/CUDAFunctions.cpp:108.)\n",
      "  return torch._C._cuda_getDeviceCount() > 0\n"
     ]
    }
   ],
   "source": [
    "from all_in_one.src.allin1.analyze import analyze\n"
   ]
  },
  {
   "cell_type": "code",
   "execution_count": null,
   "id": "d1af7c16-2cd1-4904-b6a8-9db26e39face",
   "metadata": {
    "scrolled": true
   },
   "outputs": [],
   "source": [
    "result = analyze(\n",
    "  '/home/223C1851Rodrigo/hardmix_1_cropped.wav',\n",
    "  out_dir='/home/223C1851Rodrigo/outputs',\n",
    ")"
   ]
  },
  {
   "cell_type": "code",
   "execution_count": null,
   "id": "92f06a37-51f3-48e9-b0fe-ca027c20ca26",
   "metadata": {},
   "outputs": [],
   "source": []
  },
  {
   "cell_type": "code",
   "execution_count": null,
   "id": "9ebcf32d-779c-48ed-9b15-30a8329585b7",
   "metadata": {},
   "outputs": [],
   "source": []
  },
  {
   "cell_type": "code",
   "execution_count": 15,
   "id": "0ecc38c6-f5de-45aa-afc7-9a21e8951e86",
   "metadata": {},
   "outputs": [
    {
     "name": "stdout",
     "output_type": "stream",
     "text": [
      "=> Found 0 tracks already analyzed and 2 tracks to analyze.\n",
      "=> Found 0 tracks already demixed, 2 to demix.\n"
     ]
    },
    {
     "name": "stderr",
     "output_type": "stream",
     "text": [
      "/home/223C1851Rodrigo/.local/lib/python3.10/site-packages/torch/cuda/__init__.py:118: UserWarning: CUDA initialization: Unexpected error from cudaGetDeviceCount(). Did you run some cuda functions before calling NumCudaDevices() that might have already set an error? Error 804: forward compatibility was attempted on non supported HW (Triggered internally at ../c10/cuda/CUDAFunctions.cpp:108.)\n",
      "  return torch._C._cuda_getDeviceCount() > 0\n"
     ]
    },
    {
     "name": "stdout",
     "output_type": "stream",
     "text": [
      "Selected model is a bag of 1 models. You will see that many progress bars per track.\n",
      "Separated tracks will be stored in /home/223C1851Rodrigo/musicfm/model/demix/htdemucs\n",
      "Separating track /home/223C1851Rodrigo/all_in_one/src/allin1/training/data/harmonix/tracks/croped_hardmix_mp3_98.mp3\n"
     ]
    },
    {
     "name": "stderr",
     "output_type": "stream",
     "text": [
      "  0%|                                                                     | 0.0/35.099999999999994 [00:00<?, ?seconds/s]/home/223C1851Rodrigo/.local/lib/python3.10/site-packages/torch/cuda/__init__.py:619: UserWarning: Can't initialize NVML\n",
      "  warnings.warn(\"Can't initialize NVML\")\n",
      "100%|██████████████████████████████████████████████| 35.099999999999994/35.099999999999994 [00:06<00:00,  5.58seconds/s]\n"
     ]
    },
    {
     "name": "stdout",
     "output_type": "stream",
     "text": [
      "Separating track /home/223C1851Rodrigo/all_in_one/src/allin1/training/data/harmonix/tracks/croped_hardmix_mp3_99.mp3\n"
     ]
    },
    {
     "name": "stderr",
     "output_type": "stream",
     "text": [
      "100%|██████████████████████████████████████████████| 35.099999999999994/35.099999999999994 [00:05<00:00,  6.78seconds/s]\n"
     ]
    },
    {
     "name": "stdout",
     "output_type": "stream",
     "text": [
      "=> Found 0 spectrograms already extracted, 2 to extract.\n"
     ]
    },
    {
     "name": "stderr",
     "output_type": "stream",
     "text": [
      "Extracting spectrograms: 100%|██████████| 2/2 [00:00<00:00,  2.11it/s]\n"
     ]
    },
    {
     "ename": "RuntimeError",
     "evalue": "Error(s) in loading state_dict for AllInOne:\n\tMissing key(s) in state_dict: \"musicfm_embeddings.musicfm.cls_token\", \"musicfm_embeddings.musicfm.preprocessor_melspec_2048.mel_stft.spectrogram.window\", \"musicfm_embeddings.musicfm.preprocessor_melspec_2048.mel_stft.mel_scale.fb\", \"musicfm_embeddings.musicfm.quantizer_melspec_2048_0.random_projection\", \"musicfm_embeddings.musicfm.quantizer_melspec_2048_0.codebook\", \"musicfm_embeddings.musicfm.conv.conv.0.conv1.weight\", \"musicfm_embeddings.musicfm.conv.conv.0.conv1.bias\", \"musicfm_embeddings.musicfm.conv.conv.0.bn1.weight\", \"musicfm_embeddings.musicfm.conv.conv.0.bn1.bias\", \"musicfm_embeddings.musicfm.conv.conv.0.bn1.running_mean\", \"musicfm_embeddings.musicfm.conv.conv.0.bn1.running_var\", \"musicfm_embeddings.musicfm.conv.conv.0.conv2.weight\", \"musicfm_embeddings.musicfm.conv.conv.0.conv2.bias\", \"musicfm_embeddings.musicfm.conv.conv.0.bn2.weight\", \"musicfm_embeddings.musicfm.conv.conv.0.bn2.bias\", \"musicfm_embeddings.musicfm.conv.conv.0.bn2.running_mean\", \"musicfm_embeddings.musicfm.conv.conv.0.bn2.running_var\", \"musicfm_embeddings.musicfm.conv.conv.0.conv3.weight\", \"musicfm_embeddings.musicfm.conv.conv.0.conv3.bias\", \"musicfm_embeddings.musicfm.conv.conv.0.bn3.weight\", \"musicfm_embeddings.musicfm.conv.conv.0.bn3.bias\", \"musicfm_embeddings.musicfm.conv.conv.0.bn3.running_mean\", \"musicfm_embeddings.musicfm.conv.conv.0.bn3.running_var\", \"musicfm_embeddings.musicfm.conv.conv.1.conv1.weight\", \"musicfm_embeddings.musicfm.conv.conv.1.conv1.bias\", \"musicfm_embeddings.musicfm.conv.conv.1.bn1.weight\", \"musicfm_embeddings.musicfm.conv.conv.1.bn1.bias\", \"musicfm_embeddings.musicfm.conv.conv.1.bn1.running_mean\", \"musicfm_embeddings.musicfm.conv.conv.1.bn1.running_var\", \"musicfm_embeddings.musicfm.conv.conv.1.conv2.weight\", \"musicfm_embeddings.musicfm.conv.conv.1.conv2.bias\", \"musicfm_embeddings.musicfm.conv.conv.1.bn2.weight\", \"musicfm_embeddings.musicfm.conv.conv.1.bn2.bias\", \"musicfm_embeddings.musicfm.conv.conv.1.bn2.running_mean\", \"musicfm_embeddings.musicfm.conv.conv.1.bn2.running_var\", \"musicfm_embeddings.musicfm.conv.conv.1.conv3.weight\", \"musicfm_embeddings.musicfm.conv.conv.1.conv3.bias\", \"musicfm_embeddings.musicfm.conv.conv.1.bn3.weight\", \"musicfm_embeddings.musicfm.conv.conv.1.bn3.bias\", \"musicfm_embeddings.musicfm.conv.conv.1.bn3.running_mean\", \"musicfm_embeddings.musicfm.conv.conv.1.bn3.running_var\", \"musicfm_embeddings.musicfm.conv.linear.weight\", \"musicfm_embeddings.musicfm.conv.linear.bias\", \"musicfm_embeddings.musicfm.conformer.embed_positions.inv_freq\", \"musicfm_embeddings.musicfm.conformer.pos_conv_embed.conv.bias\", \"musicfm_embeddings.musicfm.conformer.pos_conv_embed.conv.parametrizations.weight.original0\", \"musicfm_embeddings.musicfm.conformer.pos_conv_embed.conv.parametrizations.weight.original1\", \"musicfm_embeddings.musicfm.conformer.layer_norm.weight\", \"musicfm_embeddings.musicfm.conformer.layer_norm.bias\", \"musicfm_embeddings.musicfm.conformer.layers.0.ffn1_layer_norm.weight\", \"musicfm_embeddings.musicfm.conformer.layers.0.ffn1_layer_norm.bias\", \"musicfm_embeddings.musicfm.conformer.layers.0.ffn1.intermediate_dense.weight\", \"musicfm_embeddings.musicfm.conformer.layers.0.ffn1.intermediate_dense.bias\", \"musicfm_embeddings.musicfm.conformer.layers.0.ffn1.output_dense.weight\", \"musicfm_embeddings.musicfm.conformer.layers.0.ffn1.output_dense.bias\", \"musicfm_embeddings.musicfm.conformer.layers.0.self_attn_layer_norm.weight\", \"musicfm_embeddings.musicfm.conformer.layers.0.self_attn_layer_norm.bias\", \"musicfm_embeddings.musicfm.conformer.layers.0.self_attn.linear_q.weight\", \"musicfm_embeddings.musicfm.conformer.layers.0.self_attn.linear_q.bias\", \"musicfm_embeddings.musicfm.conformer.layers.0.self_attn.linear_k.weight\", \"musicfm_embeddings.musicfm.conformer.layers.0.self_attn.linear_k.bias\", \"musicfm_embeddings.musicfm.conformer.layers.0.self_attn.linear_v.weight\", \"musicfm_embeddings.musicfm.conformer.layers.0.self_attn.linear_v.bias\", \"musicfm_embeddings.musicfm.conformer.layers.0.self_attn.linear_out.weight\", \"musicfm_embeddings.musicfm.conformer.layers.0.self_attn.linear_out.bias\", \"musicfm_embeddings.musicfm.conformer.layers.0.conv_module.layer_norm.weight\", \"musicfm_embeddings.musicfm.conformer.layers.0.conv_module.layer_norm.bias\", \"musicfm_embeddings.musicfm.conformer.layers.0.conv_module.pointwise_conv1.weight\", \"musicfm_embeddings.musicfm.conformer.layers.0.conv_module.depthwise_conv.weight\", \"musicfm_embeddings.musicfm.conformer.layers.0.conv_module.batch_norm.weight\", \"musicfm_embeddings.musicfm.conformer.layers.0.conv_module.batch_norm.bias\", \"musicfm_embeddings.musicfm.conformer.layers.0.conv_module.batch_norm.running_mean\", \"musicfm_embeddings.musicfm.conformer.layers.0.conv_module.batch_norm.running_var\", \"musicfm_embeddings.musicfm.conformer.layers.0.conv_module.pointwise_conv2.weight\", \"musicfm_embeddings.musicfm.conformer.layers.0.ffn2_layer_norm.weight\", \"musicfm_embeddings.musicfm.conformer.layers.0.ffn2_layer_norm.bias\", \"musicfm_embeddings.musicfm.conformer.layers.0.ffn2.intermediate_dense.weight\", \"musicfm_embeddings.musicfm.conformer.layers.0.ffn2.intermediate_dense.bias\", \"musicfm_embeddings.musicfm.conformer.layers.0.ffn2.output_dense.weight\", \"musicfm_embeddings.musicfm.conformer.layers.0.ffn2.output_dense.bias\", \"musicfm_embeddings.musicfm.conformer.layers.0.final_layer_norm.weight\", \"musicfm_embeddings.musicfm.conformer.layers.0.final_layer_norm.bias\", \"musicfm_embeddings.musicfm.conformer.layers.1.ffn1_layer_norm.weight\", \"musicfm_embeddings.musicfm.conformer.layers.1.ffn1_layer_norm.bias\", \"musicfm_embeddings.musicfm.conformer.layers.1.ffn1.intermediate_dense.weight\", \"musicfm_embeddings.musicfm.conformer.layers.1.ffn1.intermediate_dense.bias\", \"musicfm_embeddings.musicfm.conformer.layers.1.ffn1.output_dense.weight\", \"musicfm_embeddings.musicfm.conformer.layers.1.ffn1.output_dense.bias\", \"musicfm_embeddings.musicfm.conformer.layers.1.self_attn_layer_norm.weight\", \"musicfm_embeddings.musicfm.conformer.layers.1.self_attn_layer_norm.bias\", \"musicfm_embeddings.musicfm.conformer.layers.1.self_attn.linear_q.weight\", \"musicfm_embeddings.musicfm.conformer.layers.1.self_attn.linear_q.bias\", \"musicfm_embeddings.musicfm.conformer.layers.1.self_attn.linear_k.weight\", \"musicfm_embeddings.musicfm.conformer.layers.1.self_attn.linear_k.bias\", \"musicfm_embeddings.musicfm.conformer.layers.1.self_attn.linear_v.weight\", \"musicfm_embeddings.musicfm.conformer.layers.1.self_attn.linear_v.bias\", \"musicfm_embeddings.musicfm.conformer.layers.1.self_attn.linear_out.weight\", \"musicfm_embeddings.musicfm.conformer.layers.1.self_attn.linear_out.bias\", \"musicfm_embeddings.musicfm.conformer.layers.1.conv_module.layer_norm.weight\", \"musicfm_embeddings.musicfm.conformer.layers.1.conv_module.layer_norm.bias\", \"musicfm_embeddings.musicfm.conformer.layers.1.conv_module.pointwise_conv1.weight\", \"musicfm_embeddings.musicfm.conformer.layers.1.conv_module.depthwise_conv.weight\", \"musicfm_embeddings.musicfm.conformer.layers.1.conv_module.batch_norm.weight\", \"musicfm_embeddings.musicfm.conformer.layers.1.conv_module.batch_norm.bias\", \"musicfm_embeddings.musicfm.conformer.layers.1.conv_module.batch_norm.running_mean\", \"musicfm_embeddings.musicfm.conformer.layers.1.conv_module.batch_norm.running_var\", \"musicfm_embeddings.musicfm.conformer.layers.1.conv_module.pointwise_conv2.weight\", \"musicfm_embeddings.musicfm.conformer.layers.1.ffn2_layer_norm.weight\", \"musicfm_embeddings.musicfm.conformer.layers.1.ffn2_layer_norm.bias\", \"musicfm_embeddings.musicfm.conformer.layers.1.ffn2.intermediate_dense.weight\", \"musicfm_embeddings.musicfm.conformer.layers.1.ffn2.intermediate_dense.bias\", \"musicfm_embeddings.musicfm.conformer.layers.1.ffn2.output_dense.weight\", \"musicfm_embeddings.musicfm.conformer.layers.1.ffn2.output_dense.bias\", \"musicfm_embeddings.musicfm.conformer.layers.1.final_layer_norm.weight\", \"musicfm_embeddings.musicfm.conformer.layers.1.final_layer_norm.bias\", \"musicfm_embeddings.musicfm.conformer.layers.2.ffn1_layer_norm.weight\", \"musicfm_embeddings.musicfm.conformer.layers.2.ffn1_layer_norm.bias\", \"musicfm_embeddings.musicfm.conformer.layers.2.ffn1.intermediate_dense.weight\", \"musicfm_embeddings.musicfm.conformer.layers.2.ffn1.intermediate_dense.bias\", \"musicfm_embeddings.musicfm.conformer.layers.2.ffn1.output_dense.weight\", \"musicfm_embeddings.musicfm.conformer.layers.2.ffn1.output_dense.bias\", \"musicfm_embeddings.musicfm.conformer.layers.2.self_attn_layer_norm.weight\", \"musicfm_embeddings.musicfm.conformer.layers.2.self_attn_layer_norm.bias\", \"musicfm_embeddings.musicfm.conformer.layers.2.self_attn.linear_q.weight\", \"musicfm_embeddings.musicfm.conformer.layers.2.self_attn.linear_q.bias\", \"musicfm_embeddings.musicfm.conformer.layers.2.self_attn.linear_k.weight\", \"musicfm_embeddings.musicfm.conformer.layers.2.self_attn.linear_k.bias\", \"musicfm_embeddings.musicfm.conformer.layers.2.self_attn.linear_v.weight\", \"musicfm_embeddings.musicfm.conformer.layers.2.self_attn.linear_v.bias\", \"musicfm_embeddings.musicfm.conformer.layers.2.self_attn.linear_out.weight\", \"musicfm_embeddings.musicfm.conformer.layers.2.self_attn.linear_out.bias\", \"musicfm_embeddings.musicfm.conformer.layers.2.conv_module.layer_norm.weight\", \"musicfm_embeddings.musicfm.conformer.layers.2.conv_module.layer_norm.bias\", \"musicfm_embeddings.musicfm.conformer.layers.2.conv_module.pointwise_conv1.weight\", \"musicfm_embeddings.musicfm.conformer.layers.2.conv_module.depthwise_conv.weight\", \"musicfm_embeddings.musicfm.conformer.layers.2.conv_module.batch_norm.weight\", \"musicfm_embeddings.musicfm.conformer.layers.2.conv_module.batch_norm.bias\", \"musicfm_embeddings.musicfm.conformer.layers.2.conv_module.batch_norm.running_mean\", \"musicfm_embeddings.musicfm.conformer.layers.2.conv_module.batch_norm.running_var\", \"musicfm_embeddings.musicfm.conformer.layers.2.conv_module.pointwise_conv2.weight\", \"musicfm_embeddings.musicfm.conformer.layers.2.ffn2_layer_norm.weight\", \"musicfm_embeddings.musicfm.conformer.layers.2.ffn2_layer_norm.bias\", \"musicfm_embeddings.musicfm.conformer.layers.2.ffn2.intermediate_dense.weight\", \"musicfm_embeddings.musicfm.conformer.layers.2.ffn2.intermediate_dense.bias\", \"musicfm_embeddings.musicfm.conformer.layers.2.ffn2.output_dense.weight\", \"musicfm_embeddings.musicfm.conformer.layers.2.ffn2.output_dense.bias\", \"musicfm_embeddings.musicfm.conformer.layers.2.final_layer_norm.weight\", \"musicfm_embeddings.musicfm.conformer.layers.2.final_layer_norm.bias\", \"musicfm_embeddings.musicfm.conformer.layers.3.ffn1_layer_norm.weight\", \"musicfm_embeddings.musicfm.conformer.layers.3.ffn1_layer_norm.bias\", \"musicfm_embeddings.musicfm.conformer.layers.3.ffn1.intermediate_dense.weight\", \"musicfm_embeddings.musicfm.conformer.layers.3.ffn1.intermediate_dense.bias\", \"musicfm_embeddings.musicfm.conformer.layers.3.ffn1.output_dense.weight\", \"musicfm_embeddings.musicfm.conformer.layers.3.ffn1.output_dense.bias\", \"musicfm_embeddings.musicfm.conformer.layers.3.self_attn_layer_norm.weight\", \"musicfm_embeddings.musicfm.conformer.layers.3.self_attn_layer_norm.bias\", \"musicfm_embeddings.musicfm.conformer.layers.3.self_attn.linear_q.weight\", \"musicfm_embeddings.musicfm.conformer.layers.3.self_attn.linear_q.bias\", \"musicfm_embeddings.musicfm.conformer.layers.3.self_attn.linear_k.weight\", \"musicfm_embeddings.musicfm.conformer.layers.3.self_attn.linear_k.bias\", \"musicfm_embeddings.musicfm.conformer.layers.3.self_attn.linear_v.weight\", \"musicfm_embeddings.musicfm.conformer.layers.3.self_attn.linear_v.bias\", \"musicfm_embeddings.musicfm.conformer.layers.3.self_attn.linear_out.weight\", \"musicfm_embeddings.musicfm.conformer.layers.3.self_attn.linear_out.bias\", \"musicfm_embeddings.musicfm.conformer.layers.3.conv_module.layer_norm.weight\", \"musicfm_embeddings.musicfm.conformer.layers.3.conv_module.layer_norm.bias\", \"musicfm_embeddings.musicfm.conformer.layers.3.conv_module.pointwise_conv1.weight\", \"musicfm_embeddings.musicfm.conformer.layers.3.conv_module.depthwise_conv.weight\", \"musicfm_embeddings.musicfm.conformer.layers.3.conv_module.batch_norm.weight\", \"musicfm_embeddings.musicfm.conformer.layers.3.conv_module.batch_norm.bias\", \"musicfm_embeddings.musicfm.conformer.layers.3.conv_module.batch_norm.running_mean\", \"musicfm_embeddings.musicfm.conformer.layers.3.conv_module.batch_norm.running_var\", \"musicfm_embeddings.musicfm.conformer.layers.3.conv_module.pointwise_conv2.weight\", \"musicfm_embeddings.musicfm.conformer.layers.3.ffn2_layer_norm.weight\", \"musicfm_embeddings.musicfm.conformer.layers.3.ffn2_layer_norm.bias\", \"musicfm_embeddings.musicfm.conformer.layers.3.ffn2.intermediate_dense.weight\", \"musicfm_embeddings.musicfm.conformer.layers.3.ffn2.intermediate_dense.bias\", \"musicfm_embeddings.musicfm.conformer.layers.3.ffn2.output_dense.weight\", \"musicfm_embeddings.musicfm.conformer.layers.3.ffn2.output_dense.bias\", \"musicfm_embeddings.musicfm.conformer.layers.3.final_layer_norm.weight\", \"musicfm_embeddings.musicfm.conformer.layers.3.final_layer_norm.bias\", \"musicfm_embeddings.musicfm.conformer.layers.4.ffn1_layer_norm.weight\", \"musicfm_embeddings.musicfm.conformer.layers.4.ffn1_layer_norm.bias\", \"musicfm_embeddings.musicfm.conformer.layers.4.ffn1.intermediate_dense.weight\", \"musicfm_embeddings.musicfm.conformer.layers.4.ffn1.intermediate_dense.bias\", \"musicfm_embeddings.musicfm.conformer.layers.4.ffn1.output_dense.weight\", \"musicfm_embeddings.musicfm.conformer.layers.4.ffn1.output_dense.bias\", \"musicfm_embeddings.musicfm.conformer.layers.4.self_attn_layer_norm.weight\", \"musicfm_embeddings.musicfm.conformer.layers.4.self_attn_layer_norm.bias\", \"musicfm_embeddings.musicfm.conformer.layers.4.self_attn.linear_q.weight\", \"musicfm_embeddings.musicfm.conformer.layers.4.self_attn.linear_q.bias\", \"musicfm_embeddings.musicfm.conformer.layers.4.self_attn.linear_k.weight\", \"musicfm_embeddings.musicfm.conformer.layers.4.self_attn.linear_k.bias\", \"musicfm_embeddings.musicfm.conformer.layers.4.self_attn.linear_v.weight\", \"musicfm_embeddings.musicfm.conformer.layers.4.self_attn.linear_v.bias\", \"musicfm_embeddings.musicfm.conformer.layers.4.self_attn.linear_out.weight\", \"musicfm_embeddings.musicfm.conformer.layers.4.self_attn.linear_out.bias\", \"musicfm_embeddings.musicfm.conformer.layers.4.conv_module.layer_norm.weight\", \"musicfm_embeddings.musicfm.conformer.layers.4.conv_module.layer_norm.bias\", \"musicfm_embeddings.musicfm.conformer.layers.4.conv_module.pointwise_conv1.weight\", \"musicfm_embeddings.musicfm.conformer.layers.4.conv_module.depthwise_conv.weight\", \"musicfm_embeddings.musicfm.conformer.layers.4.conv_module.batch_norm.weight\", \"musicfm_embeddings.musicfm.conformer.layers.4.conv_module.batch_norm.bias\", \"musicfm_embeddings.musicfm.conformer.layers.4.conv_module.batch_norm.running_mean\", \"musicfm_embeddings.musicfm.conformer.layers.4.conv_module.batch_norm.running_var\", \"musicfm_embeddings.musicfm.conformer.layers.4.conv_module.pointwise_conv2.weight\", \"musicfm_embeddings.musicfm.conformer.layers.4.ffn2_layer_norm.weight\", \"musicfm_embeddings.musicfm.conformer.layers.4.ffn2_layer_norm.bias\", \"musicfm_embeddings.musicfm.conformer.layers.4.ffn2.intermediate_dense.weight\", \"musicfm_embeddings.musicfm.conformer.layers.4.ffn2.intermediate_dense.bias\", \"musicfm_embeddings.musicfm.conformer.layers.4.ffn2.output_dense.weight\", \"musicfm_embeddings.musicfm.conformer.layers.4.ffn2.output_dense.bias\", \"musicfm_embeddings.musicfm.conformer.layers.4.final_layer_norm.weight\", \"musicfm_embeddings.musicfm.conformer.layers.4.final_layer_norm.bias\", \"musicfm_embeddings.musicfm.conformer.layers.5.ffn1_layer_norm.weight\", \"musicfm_embeddings.musicfm.conformer.layers.5.ffn1_layer_norm.bias\", \"musicfm_embeddings.musicfm.conformer.layers.5.ffn1.intermediate_dense.weight\", \"musicfm_embeddings.musicfm.conformer.layers.5.ffn1.intermediate_dense.bias\", \"musicfm_embeddings.musicfm.conformer.layers.5.ffn1.output_dense.weight\", \"musicfm_embeddings.musicfm.conformer.layers.5.ffn1.output_dense.bias\", \"musicfm_embeddings.musicfm.conformer.layers.5.self_attn_layer_norm.weight\", \"musicfm_embeddings.musicfm.conformer.layers.5.self_attn_layer_norm.bias\", \"musicfm_embeddings.musicfm.conformer.layers.5.self_attn.linear_q.weight\", \"musicfm_embeddings.musicfm.conformer.layers.5.self_attn.linear_q.bias\", \"musicfm_embeddings.musicfm.conformer.layers.5.self_attn.linear_k.weight\", \"musicfm_embeddings.musicfm.conformer.layers.5.self_attn.linear_k.bias\", \"musicfm_embeddings.musicfm.conformer.layers.5.self_attn.linear_v.weight\", \"musicfm_embeddings.musicfm.conformer.layers.5.self_attn.linear_v.bias\", \"musicfm_embeddings.musicfm.conformer.layers.5.self_attn.linear_out.weight\", \"musicfm_embeddings.musicfm.conformer.layers.5.self_attn.linear_out.bias\", \"musicfm_embeddings.musicfm.conformer.layers.5.conv_module.layer_norm.weight\", \"musicfm_embeddings.musicfm.conformer.layers.5.conv_module.layer_norm.bias\", \"musicfm_embeddings.musicfm.conformer.layers.5.conv_module.pointwise_conv1.weight\", \"musicfm_embeddings.musicfm.conformer.layers.5.conv_module.depthwise_conv.weight\", \"musicfm_embeddings.musicfm.conformer.layers.5.conv_module.batch_norm.weight\", \"musicfm_embeddings.musicfm.conformer.layers.5.conv_module.batch_norm.bias\", \"musicfm_embeddings.musicfm.conformer.layers.5.conv_module.batch_norm.running_mean\", \"musicfm_embeddings.musicfm.conformer.layers.5.conv_module.batch_norm.running_var\", \"musicfm_embeddings.musicfm.conformer.layers.5.conv_module.pointwise_conv2.weight\", \"musicfm_embeddings.musicfm.conformer.layers.5.ffn2_layer_norm.weight\", \"musicfm_embeddings.musicfm.conformer.layers.5.ffn2_layer_norm.bias\", \"musicfm_embeddings.musicfm.conformer.layers.5.ffn2.intermediate_dense.weight\", \"musicfm_embeddings.musicfm.conformer.layers.5.ffn2.intermediate_dense.bias\", \"musicfm_embeddings.musicfm.conformer.layers.5.ffn2.output_dense.weight\", \"musicfm_embeddings.musicfm.conformer.layers.5.ffn2.output_dense.bias\", \"musicfm_embeddings.musicfm.conformer.layers.5.final_layer_norm.weight\", \"musicfm_embeddings.musicfm.conformer.layers.5.final_layer_norm.bias\", \"musicfm_embeddings.musicfm.conformer.layers.6.ffn1_layer_norm.weight\", \"musicfm_embeddings.musicfm.conformer.layers.6.ffn1_layer_norm.bias\", \"musicfm_embeddings.musicfm.conformer.layers.6.ffn1.intermediate_dense.weight\", \"musicfm_embeddings.musicfm.conformer.layers.6.ffn1.intermediate_dense.bias\", \"musicfm_embeddings.musicfm.conformer.layers.6.ffn1.output_dense.weight\", \"musicfm_embeddings.musicfm.conformer.layers.6.ffn1.output_dense.bias\", \"musicfm_embeddings.musicfm.conformer.layers.6.self_attn_layer_norm.weight\", \"musicfm_embeddings.musicfm.conformer.layers.6.self_attn_layer_norm.bias\", \"musicfm_embeddings.musicfm.conformer.layers.6.self_attn.linear_q.weight\", \"musicfm_embeddings.musicfm.conformer.layers.6.self_attn.linear_q.bias\", \"musicfm_embeddings.musicfm.conformer.layers.6.self_attn.linear_k.weight\", \"musicfm_embeddings.musicfm.conformer.layers.6.self_attn.linear_k.bias\", \"musicfm_embeddings.musicfm.conformer.layers.6.self_attn.linear_v.weight\", \"musicfm_embeddings.musicfm.conformer.layers.6.self_attn.linear_v.bias\", \"musicfm_embeddings.musicfm.conformer.layers.6.self_attn.linear_out.weight\", \"musicfm_embeddings.musicfm.conformer.layers.6.self_attn.linear_out.bias\", \"musicfm_embeddings.musicfm.conformer.layers.6.conv_module.layer_norm.weight\", \"musicfm_embeddings.musicfm.conformer.layers.6.conv_module.layer_norm.bias\", \"musicfm_embeddings.musicfm.conformer.layers.6.conv_module.pointwise_conv1.weight\", \"musicfm_embeddings.musicfm.conformer.layers.6.conv_module.depthwise_conv.weight\", \"musicfm_embeddings.musicfm.conformer.layers.6.conv_module.batch_norm.weight\", \"musicfm_embeddings.musicfm.conformer.layers.6.conv_module.batch_norm.bias\", \"musicfm_embeddings.musicfm.conformer.layers.6.conv_module.batch_norm.running_mean\", \"musicfm_embeddings.musicfm.conformer.layers.6.conv_module.batch_norm.running_var\", \"musicfm_embeddings.musicfm.conformer.layers.6.conv_module.pointwise_conv2.weight\", \"musicfm_embeddings.musicfm.conformer.layers.6.ffn2_layer_norm.weight\", \"musicfm_embeddings.musicfm.conformer.layers.6.ffn2_layer_norm.bias\", \"musicfm_embeddings.musicfm.conformer.layers.6.ffn2.intermediate_dense.weight\", \"musicfm_embeddings.musicfm.conformer.layers.6.ffn2.intermediate_dense.bias\", \"musicfm_embeddings.musicfm.conformer.layers.6.ffn2.output_dense.weight\", \"musicfm_embeddings.musicfm.conformer.layers.6.ffn2.output_dense.bias\", \"musicfm_embeddings.musicfm.conformer.layers.6.final_layer_norm.weight\", \"musicfm_embeddings.musicfm.conformer.layers.6.final_layer_norm.bias\", \"musicfm_embeddings.musicfm.conformer.layers.7.ffn1_layer_norm.weight\", \"musicfm_embeddings.musicfm.conformer.layers.7.ffn1_layer_norm.bias\", \"musicfm_embeddings.musicfm.conformer.layers.7.ffn1.intermediate_dense.weight\", \"musicfm_embeddings.musicfm.conformer.layers.7.ffn1.intermediate_dense.bias\", \"musicfm_embeddings.musicfm.conformer.layers.7.ffn1.output_dense.weight\", \"musicfm_embeddings.musicfm.conformer.layers.7.ffn1.output_dense.bias\", \"musicfm_embeddings.musicfm.conformer.layers.7.self_attn_layer_norm.weight\", \"musicfm_embeddings.musicfm.conformer.layers.7.self_attn_layer_norm.bias\", \"musicfm_embeddings.musicfm.conformer.layers.7.self_attn.linear_q.weight\", \"musicfm_embeddings.musicfm.conformer.layers.7.self_attn.linear_q.bias\", \"musicfm_embeddings.musicfm.conformer.layers.7.self_attn.linear_k.weight\", \"musicfm_embeddings.musicfm.conformer.layers.7.self_attn.linear_k.bias\", \"musicfm_embeddings.musicfm.conformer.layers.7.self_attn.linear_v.weight\", \"musicfm_embeddings.musicfm.conformer.layers.7.self_attn.linear_v.bias\", \"musicfm_embeddings.musicfm.conformer.layers.7.self_attn.linear_out.weight\", \"musicfm_embeddings.musicfm.conformer.layers.7.self_attn.linear_out.bias\", \"musicfm_embeddings.musicfm.conformer.layers.7.conv_module.layer_norm.weight\", \"musicfm_embeddings.musicfm.conformer.layers.7.conv_module.layer_norm.bias\", \"musicfm_embeddings.musicfm.conformer.layers.7.conv_module.pointwise_conv1.weight\", \"musicfm_embeddings.musicfm.conformer.layers.7.conv_module.depthwise_conv.weight\", \"musicfm_embeddings.musicfm.conformer.layers.7.conv_module.batch_norm.weight\", \"musicfm_embeddings.musicfm.conformer.layers.7.conv_module.batch_norm.bias\", \"musicfm_embeddings.musicfm.conformer.layers.7.conv_module.batch_norm.running_mean\", \"musicfm_embeddings.musicfm.conformer.layers.7.conv_module.batch_norm.running_var\", \"musicfm_embeddings.musicfm.conformer.layers.7.conv_module.pointwise_conv2.weight\", \"musicfm_embeddings.musicfm.conformer.layers.7.ffn2_layer_norm.weight\", \"musicfm_embeddings.musicfm.conformer.layers.7.ffn2_layer_norm.bias\", \"musicfm_embeddings.musicfm.conformer.layers.7.ffn2.intermediate_dense.weight\", \"musicfm_embeddings.musicfm.conformer.layers.7.ffn2.intermediate_dense.bias\", \"musicfm_embeddings.musicfm.conformer.layers.7.ffn2.output_dense.weight\", \"musicfm_embeddings.musicfm.conformer.layers.7.ffn2.output_dense.bias\", \"musicfm_embeddings.musicfm.conformer.layers.7.final_layer_norm.weight\", \"musicfm_embeddings.musicfm.conformer.layers.7.final_layer_norm.bias\", \"musicfm_embeddings.musicfm.conformer.layers.8.ffn1_layer_norm.weight\", \"musicfm_embeddings.musicfm.conformer.layers.8.ffn1_layer_norm.bias\", \"musicfm_embeddings.musicfm.conformer.layers.8.ffn1.intermediate_dense.weight\", \"musicfm_embeddings.musicfm.conformer.layers.8.ffn1.intermediate_dense.bias\", \"musicfm_embeddings.musicfm.conformer.layers.8.ffn1.output_dense.weight\", \"musicfm_embeddings.musicfm.conformer.layers.8.ffn1.output_dense.bias\", \"musicfm_embeddings.musicfm.conformer.layers.8.self_attn_layer_norm.weight\", \"musicfm_embeddings.musicfm.conformer.layers.8.self_attn_layer_norm.bias\", \"musicfm_embeddings.musicfm.conformer.layers.8.self_attn.linear_q.weight\", \"musicfm_embeddings.musicfm.conformer.layers.8.self_attn.linear_q.bias\", \"musicfm_embeddings.musicfm.conformer.layers.8.self_attn.linear_k.weight\", \"musicfm_embeddings.musicfm.conformer.layers.8.self_attn.linear_k.bias\", \"musicfm_embeddings.musicfm.conformer.layers.8.self_attn.linear_v.weight\", \"musicfm_embeddings.musicfm.conformer.layers.8.self_attn.linear_v.bias\", \"musicfm_embeddings.musicfm.conformer.layers.8.self_attn.linear_out.weight\", \"musicfm_embeddings.musicfm.conformer.layers.8.self_attn.linear_out.bias\", \"musicfm_embeddings.musicfm.conformer.layers.8.conv_module.layer_norm.weight\", \"musicfm_embeddings.musicfm.conformer.layers.8.conv_module.layer_norm.bias\", \"musicfm_embeddings.musicfm.conformer.layers.8.conv_module.pointwise_conv1.weight\", \"musicfm_embeddings.musicfm.conformer.layers.8.conv_module.depthwise_conv.weight\", \"musicfm_embeddings.musicfm.conformer.layers.8.conv_module.batch_norm.weight\", \"musicfm_embeddings.musicfm.conformer.layers.8.conv_module.batch_norm.bias\", \"musicfm_embeddings.musicfm.conformer.layers.8.conv_module.batch_norm.running_mean\", \"musicfm_embeddings.musicfm.conformer.layers.8.conv_module.batch_norm.running_var\", \"musicfm_embeddings.musicfm.conformer.layers.8.conv_module.pointwise_conv2.weight\", \"musicfm_embeddings.musicfm.conformer.layers.8.ffn2_layer_norm.weight\", \"musicfm_embeddings.musicfm.conformer.layers.8.ffn2_layer_norm.bias\", \"musicfm_embeddings.musicfm.conformer.layers.8.ffn2.intermediate_dense.weight\", \"musicfm_embeddings.musicfm.conformer.layers.8.ffn2.intermediate_dense.bias\", \"musicfm_embeddings.musicfm.conformer.layers.8.ffn2.output_dense.weight\", \"musicfm_embeddings.musicfm.conformer.layers.8.ffn2.output_dense.bias\", \"musicfm_embeddings.musicfm.conformer.layers.8.final_layer_norm.weight\", \"musicfm_embeddings.musicfm.conformer.layers.8.final_layer_norm.bias\", \"musicfm_embeddings.musicfm.conformer.layers.9.ffn1_layer_norm.weight\", \"musicfm_embeddings.musicfm.conformer.layers.9.ffn1_layer_norm.bias\", \"musicfm_embeddings.musicfm.conformer.layers.9.ffn1.intermediate_dense.weight\", \"musicfm_embeddings.musicfm.conformer.layers.9.ffn1.intermediate_dense.bias\", \"musicfm_embeddings.musicfm.conformer.layers.9.ffn1.output_dense.weight\", \"musicfm_embeddings.musicfm.conformer.layers.9.ffn1.output_dense.bias\", \"musicfm_embeddings.musicfm.conformer.layers.9.self_attn_layer_norm.weight\", \"musicfm_embeddings.musicfm.conformer.layers.9.self_attn_layer_norm.bias\", \"musicfm_embeddings.musicfm.conformer.layers.9.self_attn.linear_q.weight\", \"musicfm_embeddings.musicfm.conformer.layers.9.self_attn.linear_q.bias\", \"musicfm_embeddings.musicfm.conformer.layers.9.self_attn.linear_k.weight\", \"musicfm_embeddings.musicfm.conformer.layers.9.self_attn.linear_k.bias\", \"musicfm_embeddings.musicfm.conformer.layers.9.self_attn.linear_v.weight\", \"musicfm_embeddings.musicfm.conformer.layers.9.self_attn.linear_v.bias\", \"musicfm_embeddings.musicfm.conformer.layers.9.self_attn.linear_out.weight\", \"musicfm_embeddings.musicfm.conformer.layers.9.self_attn.linear_out.bias\", \"musicfm_embeddings.musicfm.conformer.layers.9.conv_module.layer_norm.weight\", \"musicfm_embeddings.musicfm.conformer.layers.9.conv_module.layer_norm.bias\", \"musicfm_embeddings.musicfm.conformer.layers.9.conv_module.pointwise_conv1.weight\", \"musicfm_embeddings.musicfm.conformer.layers.9.conv_module.depthwise_conv.weight\", \"musicfm_embeddings.musicfm.conformer.layers.9.conv_module.batch_norm.weight\", \"musicfm_embeddings.musicfm.conformer.layers.9.conv_module.batch_norm.bias\", \"musicfm_embeddings.musicfm.conformer.layers.9.conv_module.batch_norm.running_mean\", \"musicfm_embeddings.musicfm.conformer.layers.9.conv_module.batch_norm.running_var\", \"musicfm_embeddings.musicfm.conformer.layers.9.conv_module.pointwise_conv2.weight\", \"musicfm_embeddings.musicfm.conformer.layers.9.ffn2_layer_norm.weight\", \"musicfm_embeddings.musicfm.conformer.layers.9.ffn2_layer_norm.bias\", \"musicfm_embeddings.musicfm.conformer.layers.9.ffn2.intermediate_dense.weight\", \"musicfm_embeddings.musicfm.conformer.layers.9.ffn2.intermediate_dense.bias\", \"musicfm_embeddings.musicfm.conformer.layers.9.ffn2.output_dense.weight\", \"musicfm_embeddings.musicfm.conformer.layers.9.ffn2.output_dense.bias\", \"musicfm_embeddings.musicfm.conformer.layers.9.final_layer_norm.weight\", \"musicfm_embeddings.musicfm.conformer.layers.9.final_layer_norm.bias\", \"musicfm_embeddings.musicfm.conformer.layers.10.ffn1_layer_norm.weight\", \"musicfm_embeddings.musicfm.conformer.layers.10.ffn1_layer_norm.bias\", \"musicfm_embeddings.musicfm.conformer.layers.10.ffn1.intermediate_dense.weight\", \"musicfm_embeddings.musicfm.conformer.layers.10.ffn1.intermediate_dense.bias\", \"musicfm_embeddings.musicfm.conformer.layers.10.ffn1.output_dense.weight\", \"musicfm_embeddings.musicfm.conformer.layers.10.ffn1.output_dense.bias\", \"musicfm_embeddings.musicfm.conformer.layers.10.self_attn_layer_norm.weight\", \"musicfm_embeddings.musicfm.conformer.layers.10.self_attn_layer_norm.bias\", \"musicfm_embeddings.musicfm.conformer.layers.10.self_attn.linear_q.weight\", \"musicfm_embeddings.musicfm.conformer.layers.10.self_attn.linear_q.bias\", \"musicfm_embeddings.musicfm.conformer.layers.10.self_attn.linear_k.weight\", \"musicfm_embeddings.musicfm.conformer.layers.10.self_attn.linear_k.bias\", \"musicfm_embeddings.musicfm.conformer.layers.10.self_attn.linear_v.weight\", \"musicfm_embeddings.musicfm.conformer.layers.10.self_attn.linear_v.bias\", \"musicfm_embeddings.musicfm.conformer.layers.10.self_attn.linear_out.weight\", \"musicfm_embeddings.musicfm.conformer.layers.10.self_attn.linear_out.bias\", \"musicfm_embeddings.musicfm.conformer.layers.10.conv_module.layer_norm.weight\", \"musicfm_embeddings.musicfm.conformer.layers.10.conv_module.layer_norm.bias\", \"musicfm_embeddings.musicfm.conformer.layers.10.conv_module.pointwise_conv1.weight\", \"musicfm_embeddings.musicfm.conformer.layers.10.conv_module.depthwise_conv.weight\", \"musicfm_embeddings.musicfm.conformer.layers.10.conv_module.batch_norm.weight\", \"musicfm_embeddings.musicfm.conformer.layers.10.conv_module.batch_norm.bias\", \"musicfm_embeddings.musicfm.conformer.layers.10.conv_module.batch_norm.running_mean\", \"musicfm_embeddings.musicfm.conformer.layers.10.conv_module.batch_norm.running_var\", \"musicfm_embeddings.musicfm.conformer.layers.10.conv_module.pointwise_conv2.weight\", \"musicfm_embeddings.musicfm.conformer.layers.10.ffn2_layer_norm.weight\", \"musicfm_embeddings.musicfm.conformer.layers.10.ffn2_layer_norm.bias\", \"musicfm_embeddings.musicfm.conformer.layers.10.ffn2.intermediate_dense.weight\", \"musicfm_embeddings.musicfm.conformer.layers.10.ffn2.intermediate_dense.bias\", \"musicfm_embeddings.musicfm.conformer.layers.10.ffn2.output_dense.weight\", \"musicfm_embeddings.musicfm.conformer.layers.10.ffn2.output_dense.bias\", \"musicfm_embeddings.musicfm.conformer.layers.10.final_layer_norm.weight\", \"musicfm_embeddings.musicfm.conformer.layers.10.final_layer_norm.bias\", \"musicfm_embeddings.musicfm.conformer.layers.11.ffn1_layer_norm.weight\", \"musicfm_embeddings.musicfm.conformer.layers.11.ffn1_layer_norm.bias\", \"musicfm_embeddings.musicfm.conformer.layers.11.ffn1.intermediate_dense.weight\", \"musicfm_embeddings.musicfm.conformer.layers.11.ffn1.intermediate_dense.bias\", \"musicfm_embeddings.musicfm.conformer.layers.11.ffn1.output_dense.weight\", \"musicfm_embeddings.musicfm.conformer.layers.11.ffn1.output_dense.bias\", \"musicfm_embeddings.musicfm.conformer.layers.11.self_attn_layer_norm.weight\", \"musicfm_embeddings.musicfm.conformer.layers.11.self_attn_layer_norm.bias\", \"musicfm_embeddings.musicfm.conformer.layers.11.self_attn.linear_q.weight\", \"musicfm_embeddings.musicfm.conformer.layers.11.self_attn.linear_q.bias\", \"musicfm_embeddings.musicfm.conformer.layers.11.self_attn.linear_k.weight\", \"musicfm_embeddings.musicfm.conformer.layers.11.self_attn.linear_k.bias\", \"musicfm_embeddings.musicfm.conformer.layers.11.self_attn.linear_v.weight\", \"musicfm_embeddings.musicfm.conformer.layers.11.self_attn.linear_v.bias\", \"musicfm_embeddings.musicfm.conformer.layers.11.self_attn.linear_out.weight\", \"musicfm_embeddings.musicfm.conformer.layers.11.self_attn.linear_out.bias\", \"musicfm_embeddings.musicfm.conformer.layers.11.conv_module.layer_norm.weight\", \"musicfm_embeddings.musicfm.conformer.layers.11.conv_module.layer_norm.bias\", \"musicfm_embeddings.musicfm.conformer.layers.11.conv_module.pointwise_conv1.weight\", \"musicfm_embeddings.musicfm.conformer.layers.11.conv_module.depthwise_conv.weight\", \"musicfm_embeddings.musicfm.conformer.layers.11.conv_module.batch_norm.weight\", \"musicfm_embeddings.musicfm.conformer.layers.11.conv_module.batch_norm.bias\", \"musicfm_embeddings.musicfm.conformer.layers.11.conv_module.batch_norm.running_mean\", \"musicfm_embeddings.musicfm.conformer.layers.11.conv_module.batch_norm.running_var\", \"musicfm_embeddings.musicfm.conformer.layers.11.conv_module.pointwise_conv2.weight\", \"musicfm_embeddings.musicfm.conformer.layers.11.ffn2_layer_norm.weight\", \"musicfm_embeddings.musicfm.conformer.layers.11.ffn2_layer_norm.bias\", \"musicfm_embeddings.musicfm.conformer.layers.11.ffn2.intermediate_dense.weight\", \"musicfm_embeddings.musicfm.conformer.layers.11.ffn2.intermediate_dense.bias\", \"musicfm_embeddings.musicfm.conformer.layers.11.ffn2.output_dense.weight\", \"musicfm_embeddings.musicfm.conformer.layers.11.ffn2.output_dense.bias\", \"musicfm_embeddings.musicfm.conformer.layers.11.final_layer_norm.weight\", \"musicfm_embeddings.musicfm.conformer.layers.11.final_layer_norm.bias\", \"musicfm_embeddings.musicfm.linear.weight\", \"musicfm_embeddings.musicfm.linear.bias\", \"linear1.weight\", \"linear1.bias\", \"linear2.weight\", \"linear2.bias\". \n\tUnexpected key(s) in state_dict: \"embeddings.conv0.weight\", \"embeddings.conv0.bias\", \"embeddings.conv1.weight\", \"embeddings.conv1.bias\", \"embeddings.conv2.weight\", \"embeddings.conv2.bias\", \"embeddings.norm.weight\", \"embeddings.norm.bias\". ",
     "output_type": "error",
     "traceback": [
      "\u001b[0;31m---------------------------------------------------------------------------\u001b[0m",
      "\u001b[0;31mRuntimeError\u001b[0m                              Traceback (most recent call last)",
      "Cell \u001b[0;32mIn[15], line 1\u001b[0m\n\u001b[0;32m----> 1\u001b[0m \u001b[43manalyze\u001b[49m\u001b[43m(\u001b[49m\n\u001b[1;32m      2\u001b[0m \u001b[43m    \u001b[49m\u001b[43mpaths\u001b[49m\u001b[38;5;241;43m=\u001b[39;49m\u001b[43m[\u001b[49m\u001b[38;5;124;43m'\u001b[39;49m\u001b[38;5;124;43m/home/223C1851Rodrigo/all_in_one/src/allin1/training/data/harmonix/tracks/croped_hardmix_mp3_99.mp3\u001b[39;49m\u001b[38;5;124;43m'\u001b[39;49m\u001b[43m,\u001b[49m\u001b[43m \u001b[49m\u001b[38;5;124;43m'\u001b[39;49m\u001b[38;5;124;43m/home/223C1851Rodrigo/all_in_one/src/allin1/training/data/harmonix/tracks/croped_hardmix_mp3_98.mp3\u001b[39;49m\u001b[38;5;124;43m'\u001b[39;49m\u001b[43m]\u001b[49m\u001b[43m,\u001b[49m\n\u001b[1;32m      3\u001b[0m \u001b[43m    \u001b[49m\u001b[43mout_dir\u001b[49m\u001b[38;5;241;43m=\u001b[39;49m\u001b[38;5;124;43m'\u001b[39;49m\u001b[38;5;124;43m./output\u001b[39;49m\u001b[38;5;124;43m'\u001b[39;49m\u001b[43m,\u001b[49m\n\u001b[1;32m      4\u001b[0m \u001b[43m    \u001b[49m\u001b[43mvisualize\u001b[49m\u001b[38;5;241;43m=\u001b[39;49m\u001b[38;5;28;43;01mFalse\u001b[39;49;00m\u001b[43m,\u001b[49m\n\u001b[1;32m      5\u001b[0m \u001b[43m    \u001b[49m\u001b[43msonify\u001b[49m\u001b[38;5;241;43m=\u001b[39;49m\u001b[38;5;28;43;01mFalse\u001b[39;49;00m\u001b[43m,\u001b[49m\n\u001b[1;32m      6\u001b[0m \u001b[43m    \u001b[49m\u001b[43minclude_embeddings\u001b[49m\u001b[38;5;241;43m=\u001b[39;49m\u001b[38;5;28;43;01mTrue\u001b[39;49;00m\u001b[43m,\u001b[49m\u001b[43m  \u001b[49m\u001b[38;5;66;43;03m# Make sure embeddings are included\u001b[39;49;00m\n\u001b[1;32m      7\u001b[0m \u001b[43m)\u001b[49m\n",
      "File \u001b[0;32m~/all_in_one/src/allin1/analyze.py:129\u001b[0m, in \u001b[0;36manalyze\u001b[0;34m(paths, out_dir, visualize, sonify, model, device, include_activations, include_embeddings, demix_dir, spec_dir, keep_byproducts, overwrite, multiprocess)\u001b[0m\n\u001b[1;32m    126\u001b[0m     spec_paths \u001b[38;5;241m=\u001b[39m extract_spectrograms(demix_paths, spec_dir, multiprocess)\n\u001b[1;32m    128\u001b[0m     \u001b[38;5;66;03m# Load the model.\u001b[39;00m\n\u001b[0;32m--> 129\u001b[0m     model \u001b[38;5;241m=\u001b[39m \u001b[43mload_pretrained_model\u001b[49m\u001b[43m(\u001b[49m\n\u001b[1;32m    130\u001b[0m \u001b[43m      \u001b[49m\u001b[43mmodel_name\u001b[49m\u001b[38;5;241;43m=\u001b[39;49m\u001b[43mmodel\u001b[49m\u001b[43m,\u001b[49m\n\u001b[1;32m    131\u001b[0m \u001b[43m      \u001b[49m\u001b[43mdevice\u001b[49m\u001b[38;5;241;43m=\u001b[39;49m\u001b[43mdevice\u001b[49m\u001b[43m,\u001b[49m\n\u001b[1;32m    132\u001b[0m \u001b[43m    \u001b[49m\u001b[43m)\u001b[49m\n\u001b[1;32m    133\u001b[0m \u001b[38;5;66;03m################################################################################\u001b[39;00m\n\u001b[1;32m    134\u001b[0m       \u001b[38;5;66;03m# Cambiamos esto para adaptar los nuevos emb\u001b[39;00m\n\u001b[1;32m    135\u001b[0m     \u001b[38;5;66;03m# with torch.no_grad():\u001b[39;00m\n\u001b[0;32m   (...)\u001b[0m\n\u001b[1;32m    153\u001b[0m \n\u001b[1;32m    154\u001b[0m         \u001b[38;5;66;03m# results.append(result)\u001b[39;00m\n\u001b[1;32m    158\u001b[0m     \u001b[38;5;28;01mwith\u001b[39;00m torch\u001b[38;5;241m.\u001b[39mno_grad():\n",
      "File \u001b[0;32m~/all_in_one/src/allin1/models/loaders.py:41\u001b[0m, in \u001b[0;36mload_pretrained_model\u001b[0;34m(model_name, cache_dir, device)\u001b[0m\n\u001b[1;32m     35\u001b[0m \u001b[38;5;28;01mdef\u001b[39;00m \u001b[38;5;21mload_pretrained_model\u001b[39m(\n\u001b[1;32m     36\u001b[0m   model_name: Optional[\u001b[38;5;28mstr\u001b[39m] \u001b[38;5;241m=\u001b[39m \u001b[38;5;28;01mNone\u001b[39;00m,\n\u001b[1;32m     37\u001b[0m   cache_dir: Optional[PathLike] \u001b[38;5;241m=\u001b[39m \u001b[38;5;28;01mNone\u001b[39;00m,\n\u001b[1;32m     38\u001b[0m   device\u001b[38;5;241m=\u001b[39m\u001b[38;5;28;01mNone\u001b[39;00m,\n\u001b[1;32m     39\u001b[0m ):\n\u001b[1;32m     40\u001b[0m   \u001b[38;5;28;01mif\u001b[39;00m model_name \u001b[38;5;129;01min\u001b[39;00m ENSEMBLE_MODELS:\n\u001b[0;32m---> 41\u001b[0m     \u001b[38;5;28;01mreturn\u001b[39;00m \u001b[43mload_ensemble_model\u001b[49m\u001b[43m(\u001b[49m\u001b[43mmodel_name\u001b[49m\u001b[43m,\u001b[49m\u001b[43m \u001b[49m\u001b[43mcache_dir\u001b[49m\u001b[43m,\u001b[49m\u001b[43m \u001b[49m\u001b[43mdevice\u001b[49m\u001b[43m)\u001b[49m\n\u001b[1;32m     43\u001b[0m   model_name \u001b[38;5;241m=\u001b[39m model_name \u001b[38;5;129;01mor\u001b[39;00m \u001b[38;5;28mlist\u001b[39m(NAME_TO_FILE\u001b[38;5;241m.\u001b[39mkeys())[\u001b[38;5;241m0\u001b[39m]\n\u001b[1;32m     44\u001b[0m   \u001b[38;5;28;01massert\u001b[39;00m model_name \u001b[38;5;129;01min\u001b[39;00m NAME_TO_FILE, \u001b[38;5;124mf\u001b[39m\u001b[38;5;124m'\u001b[39m\u001b[38;5;124mUnknown model name: \u001b[39m\u001b[38;5;132;01m{\u001b[39;00mmodel_name\u001b[38;5;132;01m}\u001b[39;00m\u001b[38;5;124m (expected one of \u001b[39m\u001b[38;5;132;01m{\u001b[39;00m\u001b[38;5;28mlist\u001b[39m(NAME_TO_FILE\u001b[38;5;241m.\u001b[39mkeys())\u001b[38;5;132;01m}\u001b[39;00m\u001b[38;5;124m)\u001b[39m\u001b[38;5;124m'\u001b[39m\n",
      "File \u001b[0;32m~/all_in_one/src/allin1/models/loaders.py:72\u001b[0m, in \u001b[0;36mload_ensemble_model\u001b[0;34m(model_name, cache_dir, device)\u001b[0m\n\u001b[1;32m     70\u001b[0m models \u001b[38;5;241m=\u001b[39m []\n\u001b[1;32m     71\u001b[0m \u001b[38;5;28;01mfor\u001b[39;00m model_name \u001b[38;5;129;01min\u001b[39;00m ENSEMBLE_MODELS[model_name]:\n\u001b[0;32m---> 72\u001b[0m   model \u001b[38;5;241m=\u001b[39m \u001b[43mload_pretrained_model\u001b[49m\u001b[43m(\u001b[49m\u001b[43mmodel_name\u001b[49m\u001b[43m,\u001b[49m\u001b[43m \u001b[49m\u001b[43mcache_dir\u001b[49m\u001b[43m,\u001b[49m\u001b[43m \u001b[49m\u001b[43mdevice\u001b[49m\u001b[43m)\u001b[49m\n\u001b[1;32m     73\u001b[0m   models\u001b[38;5;241m.\u001b[39mappend(model)\n\u001b[1;32m     75\u001b[0m ensemble \u001b[38;5;241m=\u001b[39m Ensemble(models)\u001b[38;5;241m.\u001b[39mto(device)\n",
      "File \u001b[0;32m~/all_in_one/src/allin1/models/loaders.py:59\u001b[0m, in \u001b[0;36mload_pretrained_model\u001b[0;34m(model_name, cache_dir, device)\u001b[0m\n\u001b[1;32m     56\u001b[0m config \u001b[38;5;241m=\u001b[39m OmegaConf\u001b[38;5;241m.\u001b[39mcreate(checkpoint[\u001b[38;5;124m'\u001b[39m\u001b[38;5;124mconfig\u001b[39m\u001b[38;5;124m'\u001b[39m])\n\u001b[1;32m     58\u001b[0m model \u001b[38;5;241m=\u001b[39m AllInOne(config)\u001b[38;5;241m.\u001b[39mto(device)\n\u001b[0;32m---> 59\u001b[0m \u001b[43mmodel\u001b[49m\u001b[38;5;241;43m.\u001b[39;49m\u001b[43mload_state_dict\u001b[49m\u001b[43m(\u001b[49m\u001b[43mcheckpoint\u001b[49m\u001b[43m[\u001b[49m\u001b[38;5;124;43m'\u001b[39;49m\u001b[38;5;124;43mstate_dict\u001b[39;49m\u001b[38;5;124;43m'\u001b[39;49m\u001b[43m]\u001b[49m\u001b[43m)\u001b[49m\n\u001b[1;32m     60\u001b[0m model\u001b[38;5;241m.\u001b[39meval()\n\u001b[1;32m     62\u001b[0m \u001b[38;5;28;01mreturn\u001b[39;00m model\n",
      "File \u001b[0;32m~/.local/lib/python3.10/site-packages/torch/nn/modules/module.py:2189\u001b[0m, in \u001b[0;36mModule.load_state_dict\u001b[0;34m(self, state_dict, strict, assign)\u001b[0m\n\u001b[1;32m   2184\u001b[0m         error_msgs\u001b[38;5;241m.\u001b[39minsert(\n\u001b[1;32m   2185\u001b[0m             \u001b[38;5;241m0\u001b[39m, \u001b[38;5;124m'\u001b[39m\u001b[38;5;124mMissing key(s) in state_dict: \u001b[39m\u001b[38;5;132;01m{}\u001b[39;00m\u001b[38;5;124m. \u001b[39m\u001b[38;5;124m'\u001b[39m\u001b[38;5;241m.\u001b[39mformat(\n\u001b[1;32m   2186\u001b[0m                 \u001b[38;5;124m'\u001b[39m\u001b[38;5;124m, \u001b[39m\u001b[38;5;124m'\u001b[39m\u001b[38;5;241m.\u001b[39mjoin(\u001b[38;5;124mf\u001b[39m\u001b[38;5;124m'\u001b[39m\u001b[38;5;124m\"\u001b[39m\u001b[38;5;132;01m{\u001b[39;00mk\u001b[38;5;132;01m}\u001b[39;00m\u001b[38;5;124m\"\u001b[39m\u001b[38;5;124m'\u001b[39m \u001b[38;5;28;01mfor\u001b[39;00m k \u001b[38;5;129;01min\u001b[39;00m missing_keys)))\n\u001b[1;32m   2188\u001b[0m \u001b[38;5;28;01mif\u001b[39;00m \u001b[38;5;28mlen\u001b[39m(error_msgs) \u001b[38;5;241m>\u001b[39m \u001b[38;5;241m0\u001b[39m:\n\u001b[0;32m-> 2189\u001b[0m     \u001b[38;5;28;01mraise\u001b[39;00m \u001b[38;5;167;01mRuntimeError\u001b[39;00m(\u001b[38;5;124m'\u001b[39m\u001b[38;5;124mError(s) in loading state_dict for \u001b[39m\u001b[38;5;132;01m{}\u001b[39;00m\u001b[38;5;124m:\u001b[39m\u001b[38;5;130;01m\\n\u001b[39;00m\u001b[38;5;130;01m\\t\u001b[39;00m\u001b[38;5;132;01m{}\u001b[39;00m\u001b[38;5;124m'\u001b[39m\u001b[38;5;241m.\u001b[39mformat(\n\u001b[1;32m   2190\u001b[0m                        \u001b[38;5;28mself\u001b[39m\u001b[38;5;241m.\u001b[39m\u001b[38;5;18m__class__\u001b[39m\u001b[38;5;241m.\u001b[39m\u001b[38;5;18m__name__\u001b[39m, \u001b[38;5;124m\"\u001b[39m\u001b[38;5;130;01m\\n\u001b[39;00m\u001b[38;5;130;01m\\t\u001b[39;00m\u001b[38;5;124m\"\u001b[39m\u001b[38;5;241m.\u001b[39mjoin(error_msgs)))\n\u001b[1;32m   2191\u001b[0m \u001b[38;5;28;01mreturn\u001b[39;00m _IncompatibleKeys(missing_keys, unexpected_keys)\n",
      "\u001b[0;31mRuntimeError\u001b[0m: Error(s) in loading state_dict for AllInOne:\n\tMissing key(s) in state_dict: \"musicfm_embeddings.musicfm.cls_token\", \"musicfm_embeddings.musicfm.preprocessor_melspec_2048.mel_stft.spectrogram.window\", \"musicfm_embeddings.musicfm.preprocessor_melspec_2048.mel_stft.mel_scale.fb\", \"musicfm_embeddings.musicfm.quantizer_melspec_2048_0.random_projection\", \"musicfm_embeddings.musicfm.quantizer_melspec_2048_0.codebook\", \"musicfm_embeddings.musicfm.conv.conv.0.conv1.weight\", \"musicfm_embeddings.musicfm.conv.conv.0.conv1.bias\", \"musicfm_embeddings.musicfm.conv.conv.0.bn1.weight\", \"musicfm_embeddings.musicfm.conv.conv.0.bn1.bias\", \"musicfm_embeddings.musicfm.conv.conv.0.bn1.running_mean\", \"musicfm_embeddings.musicfm.conv.conv.0.bn1.running_var\", \"musicfm_embeddings.musicfm.conv.conv.0.conv2.weight\", \"musicfm_embeddings.musicfm.conv.conv.0.conv2.bias\", \"musicfm_embeddings.musicfm.conv.conv.0.bn2.weight\", \"musicfm_embeddings.musicfm.conv.conv.0.bn2.bias\", \"musicfm_embeddings.musicfm.conv.conv.0.bn2.running_mean\", \"musicfm_embeddings.musicfm.conv.conv.0.bn2.running_var\", \"musicfm_embeddings.musicfm.conv.conv.0.conv3.weight\", \"musicfm_embeddings.musicfm.conv.conv.0.conv3.bias\", \"musicfm_embeddings.musicfm.conv.conv.0.bn3.weight\", \"musicfm_embeddings.musicfm.conv.conv.0.bn3.bias\", \"musicfm_embeddings.musicfm.conv.conv.0.bn3.running_mean\", \"musicfm_embeddings.musicfm.conv.conv.0.bn3.running_var\", \"musicfm_embeddings.musicfm.conv.conv.1.conv1.weight\", \"musicfm_embeddings.musicfm.conv.conv.1.conv1.bias\", \"musicfm_embeddings.musicfm.conv.conv.1.bn1.weight\", \"musicfm_embeddings.musicfm.conv.conv.1.bn1.bias\", \"musicfm_embeddings.musicfm.conv.conv.1.bn1.running_mean\", \"musicfm_embeddings.musicfm.conv.conv.1.bn1.running_var\", \"musicfm_embeddings.musicfm.conv.conv.1.conv2.weight\", \"musicfm_embeddings.musicfm.conv.conv.1.conv2.bias\", \"musicfm_embeddings.musicfm.conv.conv.1.bn2.weight\", \"musicfm_embeddings.musicfm.conv.conv.1.bn2.bias\", \"musicfm_embeddings.musicfm.conv.conv.1.bn2.running_mean\", \"musicfm_embeddings.musicfm.conv.conv.1.bn2.running_var\", \"musicfm_embeddings.musicfm.conv.conv.1.conv3.weight\", \"musicfm_embeddings.musicfm.conv.conv.1.conv3.bias\", \"musicfm_embeddings.musicfm.conv.conv.1.bn3.weight\", \"musicfm_embeddings.musicfm.conv.conv.1.bn3.bias\", \"musicfm_embeddings.musicfm.conv.conv.1.bn3.running_mean\", \"musicfm_embeddings.musicfm.conv.conv.1.bn3.running_var\", \"musicfm_embeddings.musicfm.conv.linear.weight\", \"musicfm_embeddings.musicfm.conv.linear.bias\", \"musicfm_embeddings.musicfm.conformer.embed_positions.inv_freq\", \"musicfm_embeddings.musicfm.conformer.pos_conv_embed.conv.bias\", \"musicfm_embeddings.musicfm.conformer.pos_conv_embed.conv.parametrizations.weight.original0\", \"musicfm_embeddings.musicfm.conformer.pos_conv_embed.conv.parametrizations.weight.original1\", \"musicfm_embeddings.musicfm.conformer.layer_norm.weight\", \"musicfm_embeddings.musicfm.conformer.layer_norm.bias\", \"musicfm_embeddings.musicfm.conformer.layers.0.ffn1_layer_norm.weight\", \"musicfm_embeddings.musicfm.conformer.layers.0.ffn1_layer_norm.bias\", \"musicfm_embeddings.musicfm.conformer.layers.0.ffn1.intermediate_dense.weight\", \"musicfm_embeddings.musicfm.conformer.layers.0.ffn1.intermediate_dense.bias\", \"musicfm_embeddings.musicfm.conformer.layers.0.ffn1.output_dense.weight\", \"musicfm_embeddings.musicfm.conformer.layers.0.ffn1.output_dense.bias\", \"musicfm_embeddings.musicfm.conformer.layers.0.self_attn_layer_norm.weight\", \"musicfm_embeddings.musicfm.conformer.layers.0.self_attn_layer_norm.bias\", \"musicfm_embeddings.musicfm.conformer.layers.0.self_attn.linear_q.weight\", \"musicfm_embeddings.musicfm.conformer.layers.0.self_attn.linear_q.bias\", \"musicfm_embeddings.musicfm.conformer.layers.0.self_attn.linear_k.weight\", \"musicfm_embeddings.musicfm.conformer.layers.0.self_attn.linear_k.bias\", \"musicfm_embeddings.musicfm.conformer.layers.0.self_attn.linear_v.weight\", \"musicfm_embeddings.musicfm.conformer.layers.0.self_attn.linear_v.bias\", \"musicfm_embeddings.musicfm.conformer.layers.0.self_attn.linear_out.weight\", \"musicfm_embeddings.musicfm.conformer.layers.0.self_attn.linear_out.bias\", \"musicfm_embeddings.musicfm.conformer.layers.0.conv_module.layer_norm.weight\", \"musicfm_embeddings.musicfm.conformer.layers.0.conv_module.layer_norm.bias\", \"musicfm_embeddings.musicfm.conformer.layers.0.conv_module.pointwise_conv1.weight\", \"musicfm_embeddings.musicfm.conformer.layers.0.conv_module.depthwise_conv.weight\", \"musicfm_embeddings.musicfm.conformer.layers.0.conv_module.batch_norm.weight\", \"musicfm_embeddings.musicfm.conformer.layers.0.conv_module.batch_norm.bias\", \"musicfm_embeddings.musicfm.conformer.layers.0.conv_module.batch_norm.running_mean\", \"musicfm_embeddings.musicfm.conformer.layers.0.conv_module.batch_norm.running_var\", \"musicfm_embeddings.musicfm.conformer.layers.0.conv_module.pointwise_conv2.weight\", \"musicfm_embeddings.musicfm.conformer.layers.0.ffn2_layer_norm.weight\", \"musicfm_embeddings.musicfm.conformer.layers.0.ffn2_layer_norm.bias\", \"musicfm_embeddings.musicfm.conformer.layers.0.ffn2.intermediate_dense.weight\", \"musicfm_embeddings.musicfm.conformer.layers.0.ffn2.intermediate_dense.bias\", \"musicfm_embeddings.musicfm.conformer.layers.0.ffn2.output_dense.weight\", \"musicfm_embeddings.musicfm.conformer.layers.0.ffn2.output_dense.bias\", \"musicfm_embeddings.musicfm.conformer.layers.0.final_layer_norm.weight\", \"musicfm_embeddings.musicfm.conformer.layers.0.final_layer_norm.bias\", \"musicfm_embeddings.musicfm.conformer.layers.1.ffn1_layer_norm.weight\", \"musicfm_embeddings.musicfm.conformer.layers.1.ffn1_layer_norm.bias\", \"musicfm_embeddings.musicfm.conformer.layers.1.ffn1.intermediate_dense.weight\", \"musicfm_embeddings.musicfm.conformer.layers.1.ffn1.intermediate_dense.bias\", \"musicfm_embeddings.musicfm.conformer.layers.1.ffn1.output_dense.weight\", \"musicfm_embeddings.musicfm.conformer.layers.1.ffn1.output_dense.bias\", \"musicfm_embeddings.musicfm.conformer.layers.1.self_attn_layer_norm.weight\", \"musicfm_embeddings.musicfm.conformer.layers.1.self_attn_layer_norm.bias\", \"musicfm_embeddings.musicfm.conformer.layers.1.self_attn.linear_q.weight\", \"musicfm_embeddings.musicfm.conformer.layers.1.self_attn.linear_q.bias\", \"musicfm_embeddings.musicfm.conformer.layers.1.self_attn.linear_k.weight\", \"musicfm_embeddings.musicfm.conformer.layers.1.self_attn.linear_k.bias\", \"musicfm_embeddings.musicfm.conformer.layers.1.self_attn.linear_v.weight\", \"musicfm_embeddings.musicfm.conformer.layers.1.self_attn.linear_v.bias\", \"musicfm_embeddings.musicfm.conformer.layers.1.self_attn.linear_out.weight\", \"musicfm_embeddings.musicfm.conformer.layers.1.self_attn.linear_out.bias\", \"musicfm_embeddings.musicfm.conformer.layers.1.conv_module.layer_norm.weight\", \"musicfm_embeddings.musicfm.conformer.layers.1.conv_module.layer_norm.bias\", \"musicfm_embeddings.musicfm.conformer.layers.1.conv_module.pointwise_conv1.weight\", \"musicfm_embeddings.musicfm.conformer.layers.1.conv_module.depthwise_conv.weight\", \"musicfm_embeddings.musicfm.conformer.layers.1.conv_module.batch_norm.weight\", \"musicfm_embeddings.musicfm.conformer.layers.1.conv_module.batch_norm.bias\", \"musicfm_embeddings.musicfm.conformer.layers.1.conv_module.batch_norm.running_mean\", \"musicfm_embeddings.musicfm.conformer.layers.1.conv_module.batch_norm.running_var\", \"musicfm_embeddings.musicfm.conformer.layers.1.conv_module.pointwise_conv2.weight\", \"musicfm_embeddings.musicfm.conformer.layers.1.ffn2_layer_norm.weight\", \"musicfm_embeddings.musicfm.conformer.layers.1.ffn2_layer_norm.bias\", \"musicfm_embeddings.musicfm.conformer.layers.1.ffn2.intermediate_dense.weight\", \"musicfm_embeddings.musicfm.conformer.layers.1.ffn2.intermediate_dense.bias\", \"musicfm_embeddings.musicfm.conformer.layers.1.ffn2.output_dense.weight\", \"musicfm_embeddings.musicfm.conformer.layers.1.ffn2.output_dense.bias\", \"musicfm_embeddings.musicfm.conformer.layers.1.final_layer_norm.weight\", \"musicfm_embeddings.musicfm.conformer.layers.1.final_layer_norm.bias\", \"musicfm_embeddings.musicfm.conformer.layers.2.ffn1_layer_norm.weight\", \"musicfm_embeddings.musicfm.conformer.layers.2.ffn1_layer_norm.bias\", \"musicfm_embeddings.musicfm.conformer.layers.2.ffn1.intermediate_dense.weight\", \"musicfm_embeddings.musicfm.conformer.layers.2.ffn1.intermediate_dense.bias\", \"musicfm_embeddings.musicfm.conformer.layers.2.ffn1.output_dense.weight\", \"musicfm_embeddings.musicfm.conformer.layers.2.ffn1.output_dense.bias\", \"musicfm_embeddings.musicfm.conformer.layers.2.self_attn_layer_norm.weight\", \"musicfm_embeddings.musicfm.conformer.layers.2.self_attn_layer_norm.bias\", \"musicfm_embeddings.musicfm.conformer.layers.2.self_attn.linear_q.weight\", \"musicfm_embeddings.musicfm.conformer.layers.2.self_attn.linear_q.bias\", \"musicfm_embeddings.musicfm.conformer.layers.2.self_attn.linear_k.weight\", \"musicfm_embeddings.musicfm.conformer.layers.2.self_attn.linear_k.bias\", \"musicfm_embeddings.musicfm.conformer.layers.2.self_attn.linear_v.weight\", \"musicfm_embeddings.musicfm.conformer.layers.2.self_attn.linear_v.bias\", \"musicfm_embeddings.musicfm.conformer.layers.2.self_attn.linear_out.weight\", \"musicfm_embeddings.musicfm.conformer.layers.2.self_attn.linear_out.bias\", \"musicfm_embeddings.musicfm.conformer.layers.2.conv_module.layer_norm.weight\", \"musicfm_embeddings.musicfm.conformer.layers.2.conv_module.layer_norm.bias\", \"musicfm_embeddings.musicfm.conformer.layers.2.conv_module.pointwise_conv1.weight\", \"musicfm_embeddings.musicfm.conformer.layers.2.conv_module.depthwise_conv.weight\", \"musicfm_embeddings.musicfm.conformer.layers.2.conv_module.batch_norm.weight\", \"musicfm_embeddings.musicfm.conformer.layers.2.conv_module.batch_norm.bias\", \"musicfm_embeddings.musicfm.conformer.layers.2.conv_module.batch_norm.running_mean\", \"musicfm_embeddings.musicfm.conformer.layers.2.conv_module.batch_norm.running_var\", \"musicfm_embeddings.musicfm.conformer.layers.2.conv_module.pointwise_conv2.weight\", \"musicfm_embeddings.musicfm.conformer.layers.2.ffn2_layer_norm.weight\", \"musicfm_embeddings.musicfm.conformer.layers.2.ffn2_layer_norm.bias\", \"musicfm_embeddings.musicfm.conformer.layers.2.ffn2.intermediate_dense.weight\", \"musicfm_embeddings.musicfm.conformer.layers.2.ffn2.intermediate_dense.bias\", \"musicfm_embeddings.musicfm.conformer.layers.2.ffn2.output_dense.weight\", \"musicfm_embeddings.musicfm.conformer.layers.2.ffn2.output_dense.bias\", \"musicfm_embeddings.musicfm.conformer.layers.2.final_layer_norm.weight\", \"musicfm_embeddings.musicfm.conformer.layers.2.final_layer_norm.bias\", \"musicfm_embeddings.musicfm.conformer.layers.3.ffn1_layer_norm.weight\", \"musicfm_embeddings.musicfm.conformer.layers.3.ffn1_layer_norm.bias\", \"musicfm_embeddings.musicfm.conformer.layers.3.ffn1.intermediate_dense.weight\", \"musicfm_embeddings.musicfm.conformer.layers.3.ffn1.intermediate_dense.bias\", \"musicfm_embeddings.musicfm.conformer.layers.3.ffn1.output_dense.weight\", \"musicfm_embeddings.musicfm.conformer.layers.3.ffn1.output_dense.bias\", \"musicfm_embeddings.musicfm.conformer.layers.3.self_attn_layer_norm.weight\", \"musicfm_embeddings.musicfm.conformer.layers.3.self_attn_layer_norm.bias\", \"musicfm_embeddings.musicfm.conformer.layers.3.self_attn.linear_q.weight\", \"musicfm_embeddings.musicfm.conformer.layers.3.self_attn.linear_q.bias\", \"musicfm_embeddings.musicfm.conformer.layers.3.self_attn.linear_k.weight\", \"musicfm_embeddings.musicfm.conformer.layers.3.self_attn.linear_k.bias\", \"musicfm_embeddings.musicfm.conformer.layers.3.self_attn.linear_v.weight\", \"musicfm_embeddings.musicfm.conformer.layers.3.self_attn.linear_v.bias\", \"musicfm_embeddings.musicfm.conformer.layers.3.self_attn.linear_out.weight\", \"musicfm_embeddings.musicfm.conformer.layers.3.self_attn.linear_out.bias\", \"musicfm_embeddings.musicfm.conformer.layers.3.conv_module.layer_norm.weight\", \"musicfm_embeddings.musicfm.conformer.layers.3.conv_module.layer_norm.bias\", \"musicfm_embeddings.musicfm.conformer.layers.3.conv_module.pointwise_conv1.weight\", \"musicfm_embeddings.musicfm.conformer.layers.3.conv_module.depthwise_conv.weight\", \"musicfm_embeddings.musicfm.conformer.layers.3.conv_module.batch_norm.weight\", \"musicfm_embeddings.musicfm.conformer.layers.3.conv_module.batch_norm.bias\", \"musicfm_embeddings.musicfm.conformer.layers.3.conv_module.batch_norm.running_mean\", \"musicfm_embeddings.musicfm.conformer.layers.3.conv_module.batch_norm.running_var\", \"musicfm_embeddings.musicfm.conformer.layers.3.conv_module.pointwise_conv2.weight\", \"musicfm_embeddings.musicfm.conformer.layers.3.ffn2_layer_norm.weight\", \"musicfm_embeddings.musicfm.conformer.layers.3.ffn2_layer_norm.bias\", \"musicfm_embeddings.musicfm.conformer.layers.3.ffn2.intermediate_dense.weight\", \"musicfm_embeddings.musicfm.conformer.layers.3.ffn2.intermediate_dense.bias\", \"musicfm_embeddings.musicfm.conformer.layers.3.ffn2.output_dense.weight\", \"musicfm_embeddings.musicfm.conformer.layers.3.ffn2.output_dense.bias\", \"musicfm_embeddings.musicfm.conformer.layers.3.final_layer_norm.weight\", \"musicfm_embeddings.musicfm.conformer.layers.3.final_layer_norm.bias\", \"musicfm_embeddings.musicfm.conformer.layers.4.ffn1_layer_norm.weight\", \"musicfm_embeddings.musicfm.conformer.layers.4.ffn1_layer_norm.bias\", \"musicfm_embeddings.musicfm.conformer.layers.4.ffn1.intermediate_dense.weight\", \"musicfm_embeddings.musicfm.conformer.layers.4.ffn1.intermediate_dense.bias\", \"musicfm_embeddings.musicfm.conformer.layers.4.ffn1.output_dense.weight\", \"musicfm_embeddings.musicfm.conformer.layers.4.ffn1.output_dense.bias\", \"musicfm_embeddings.musicfm.conformer.layers.4.self_attn_layer_norm.weight\", \"musicfm_embeddings.musicfm.conformer.layers.4.self_attn_layer_norm.bias\", \"musicfm_embeddings.musicfm.conformer.layers.4.self_attn.linear_q.weight\", \"musicfm_embeddings.musicfm.conformer.layers.4.self_attn.linear_q.bias\", \"musicfm_embeddings.musicfm.conformer.layers.4.self_attn.linear_k.weight\", \"musicfm_embeddings.musicfm.conformer.layers.4.self_attn.linear_k.bias\", \"musicfm_embeddings.musicfm.conformer.layers.4.self_attn.linear_v.weight\", \"musicfm_embeddings.musicfm.conformer.layers.4.self_attn.linear_v.bias\", \"musicfm_embeddings.musicfm.conformer.layers.4.self_attn.linear_out.weight\", \"musicfm_embeddings.musicfm.conformer.layers.4.self_attn.linear_out.bias\", \"musicfm_embeddings.musicfm.conformer.layers.4.conv_module.layer_norm.weight\", \"musicfm_embeddings.musicfm.conformer.layers.4.conv_module.layer_norm.bias\", \"musicfm_embeddings.musicfm.conformer.layers.4.conv_module.pointwise_conv1.weight\", \"musicfm_embeddings.musicfm.conformer.layers.4.conv_module.depthwise_conv.weight\", \"musicfm_embeddings.musicfm.conformer.layers.4.conv_module.batch_norm.weight\", \"musicfm_embeddings.musicfm.conformer.layers.4.conv_module.batch_norm.bias\", \"musicfm_embeddings.musicfm.conformer.layers.4.conv_module.batch_norm.running_mean\", \"musicfm_embeddings.musicfm.conformer.layers.4.conv_module.batch_norm.running_var\", \"musicfm_embeddings.musicfm.conformer.layers.4.conv_module.pointwise_conv2.weight\", \"musicfm_embeddings.musicfm.conformer.layers.4.ffn2_layer_norm.weight\", \"musicfm_embeddings.musicfm.conformer.layers.4.ffn2_layer_norm.bias\", \"musicfm_embeddings.musicfm.conformer.layers.4.ffn2.intermediate_dense.weight\", \"musicfm_embeddings.musicfm.conformer.layers.4.ffn2.intermediate_dense.bias\", \"musicfm_embeddings.musicfm.conformer.layers.4.ffn2.output_dense.weight\", \"musicfm_embeddings.musicfm.conformer.layers.4.ffn2.output_dense.bias\", \"musicfm_embeddings.musicfm.conformer.layers.4.final_layer_norm.weight\", \"musicfm_embeddings.musicfm.conformer.layers.4.final_layer_norm.bias\", \"musicfm_embeddings.musicfm.conformer.layers.5.ffn1_layer_norm.weight\", \"musicfm_embeddings.musicfm.conformer.layers.5.ffn1_layer_norm.bias\", \"musicfm_embeddings.musicfm.conformer.layers.5.ffn1.intermediate_dense.weight\", \"musicfm_embeddings.musicfm.conformer.layers.5.ffn1.intermediate_dense.bias\", \"musicfm_embeddings.musicfm.conformer.layers.5.ffn1.output_dense.weight\", \"musicfm_embeddings.musicfm.conformer.layers.5.ffn1.output_dense.bias\", \"musicfm_embeddings.musicfm.conformer.layers.5.self_attn_layer_norm.weight\", \"musicfm_embeddings.musicfm.conformer.layers.5.self_attn_layer_norm.bias\", \"musicfm_embeddings.musicfm.conformer.layers.5.self_attn.linear_q.weight\", \"musicfm_embeddings.musicfm.conformer.layers.5.self_attn.linear_q.bias\", \"musicfm_embeddings.musicfm.conformer.layers.5.self_attn.linear_k.weight\", \"musicfm_embeddings.musicfm.conformer.layers.5.self_attn.linear_k.bias\", \"musicfm_embeddings.musicfm.conformer.layers.5.self_attn.linear_v.weight\", \"musicfm_embeddings.musicfm.conformer.layers.5.self_attn.linear_v.bias\", \"musicfm_embeddings.musicfm.conformer.layers.5.self_attn.linear_out.weight\", \"musicfm_embeddings.musicfm.conformer.layers.5.self_attn.linear_out.bias\", \"musicfm_embeddings.musicfm.conformer.layers.5.conv_module.layer_norm.weight\", \"musicfm_embeddings.musicfm.conformer.layers.5.conv_module.layer_norm.bias\", \"musicfm_embeddings.musicfm.conformer.layers.5.conv_module.pointwise_conv1.weight\", \"musicfm_embeddings.musicfm.conformer.layers.5.conv_module.depthwise_conv.weight\", \"musicfm_embeddings.musicfm.conformer.layers.5.conv_module.batch_norm.weight\", \"musicfm_embeddings.musicfm.conformer.layers.5.conv_module.batch_norm.bias\", \"musicfm_embeddings.musicfm.conformer.layers.5.conv_module.batch_norm.running_mean\", \"musicfm_embeddings.musicfm.conformer.layers.5.conv_module.batch_norm.running_var\", \"musicfm_embeddings.musicfm.conformer.layers.5.conv_module.pointwise_conv2.weight\", \"musicfm_embeddings.musicfm.conformer.layers.5.ffn2_layer_norm.weight\", \"musicfm_embeddings.musicfm.conformer.layers.5.ffn2_layer_norm.bias\", \"musicfm_embeddings.musicfm.conformer.layers.5.ffn2.intermediate_dense.weight\", \"musicfm_embeddings.musicfm.conformer.layers.5.ffn2.intermediate_dense.bias\", \"musicfm_embeddings.musicfm.conformer.layers.5.ffn2.output_dense.weight\", \"musicfm_embeddings.musicfm.conformer.layers.5.ffn2.output_dense.bias\", \"musicfm_embeddings.musicfm.conformer.layers.5.final_layer_norm.weight\", \"musicfm_embeddings.musicfm.conformer.layers.5.final_layer_norm.bias\", \"musicfm_embeddings.musicfm.conformer.layers.6.ffn1_layer_norm.weight\", \"musicfm_embeddings.musicfm.conformer.layers.6.ffn1_layer_norm.bias\", \"musicfm_embeddings.musicfm.conformer.layers.6.ffn1.intermediate_dense.weight\", \"musicfm_embeddings.musicfm.conformer.layers.6.ffn1.intermediate_dense.bias\", \"musicfm_embeddings.musicfm.conformer.layers.6.ffn1.output_dense.weight\", \"musicfm_embeddings.musicfm.conformer.layers.6.ffn1.output_dense.bias\", \"musicfm_embeddings.musicfm.conformer.layers.6.self_attn_layer_norm.weight\", \"musicfm_embeddings.musicfm.conformer.layers.6.self_attn_layer_norm.bias\", \"musicfm_embeddings.musicfm.conformer.layers.6.self_attn.linear_q.weight\", \"musicfm_embeddings.musicfm.conformer.layers.6.self_attn.linear_q.bias\", \"musicfm_embeddings.musicfm.conformer.layers.6.self_attn.linear_k.weight\", \"musicfm_embeddings.musicfm.conformer.layers.6.self_attn.linear_k.bias\", \"musicfm_embeddings.musicfm.conformer.layers.6.self_attn.linear_v.weight\", \"musicfm_embeddings.musicfm.conformer.layers.6.self_attn.linear_v.bias\", \"musicfm_embeddings.musicfm.conformer.layers.6.self_attn.linear_out.weight\", \"musicfm_embeddings.musicfm.conformer.layers.6.self_attn.linear_out.bias\", \"musicfm_embeddings.musicfm.conformer.layers.6.conv_module.layer_norm.weight\", \"musicfm_embeddings.musicfm.conformer.layers.6.conv_module.layer_norm.bias\", \"musicfm_embeddings.musicfm.conformer.layers.6.conv_module.pointwise_conv1.weight\", \"musicfm_embeddings.musicfm.conformer.layers.6.conv_module.depthwise_conv.weight\", \"musicfm_embeddings.musicfm.conformer.layers.6.conv_module.batch_norm.weight\", \"musicfm_embeddings.musicfm.conformer.layers.6.conv_module.batch_norm.bias\", \"musicfm_embeddings.musicfm.conformer.layers.6.conv_module.batch_norm.running_mean\", \"musicfm_embeddings.musicfm.conformer.layers.6.conv_module.batch_norm.running_var\", \"musicfm_embeddings.musicfm.conformer.layers.6.conv_module.pointwise_conv2.weight\", \"musicfm_embeddings.musicfm.conformer.layers.6.ffn2_layer_norm.weight\", \"musicfm_embeddings.musicfm.conformer.layers.6.ffn2_layer_norm.bias\", \"musicfm_embeddings.musicfm.conformer.layers.6.ffn2.intermediate_dense.weight\", \"musicfm_embeddings.musicfm.conformer.layers.6.ffn2.intermediate_dense.bias\", \"musicfm_embeddings.musicfm.conformer.layers.6.ffn2.output_dense.weight\", \"musicfm_embeddings.musicfm.conformer.layers.6.ffn2.output_dense.bias\", \"musicfm_embeddings.musicfm.conformer.layers.6.final_layer_norm.weight\", \"musicfm_embeddings.musicfm.conformer.layers.6.final_layer_norm.bias\", \"musicfm_embeddings.musicfm.conformer.layers.7.ffn1_layer_norm.weight\", \"musicfm_embeddings.musicfm.conformer.layers.7.ffn1_layer_norm.bias\", \"musicfm_embeddings.musicfm.conformer.layers.7.ffn1.intermediate_dense.weight\", \"musicfm_embeddings.musicfm.conformer.layers.7.ffn1.intermediate_dense.bias\", \"musicfm_embeddings.musicfm.conformer.layers.7.ffn1.output_dense.weight\", \"musicfm_embeddings.musicfm.conformer.layers.7.ffn1.output_dense.bias\", \"musicfm_embeddings.musicfm.conformer.layers.7.self_attn_layer_norm.weight\", \"musicfm_embeddings.musicfm.conformer.layers.7.self_attn_layer_norm.bias\", \"musicfm_embeddings.musicfm.conformer.layers.7.self_attn.linear_q.weight\", \"musicfm_embeddings.musicfm.conformer.layers.7.self_attn.linear_q.bias\", \"musicfm_embeddings.musicfm.conformer.layers.7.self_attn.linear_k.weight\", \"musicfm_embeddings.musicfm.conformer.layers.7.self_attn.linear_k.bias\", \"musicfm_embeddings.musicfm.conformer.layers.7.self_attn.linear_v.weight\", \"musicfm_embeddings.musicfm.conformer.layers.7.self_attn.linear_v.bias\", \"musicfm_embeddings.musicfm.conformer.layers.7.self_attn.linear_out.weight\", \"musicfm_embeddings.musicfm.conformer.layers.7.self_attn.linear_out.bias\", \"musicfm_embeddings.musicfm.conformer.layers.7.conv_module.layer_norm.weight\", \"musicfm_embeddings.musicfm.conformer.layers.7.conv_module.layer_norm.bias\", \"musicfm_embeddings.musicfm.conformer.layers.7.conv_module.pointwise_conv1.weight\", \"musicfm_embeddings.musicfm.conformer.layers.7.conv_module.depthwise_conv.weight\", \"musicfm_embeddings.musicfm.conformer.layers.7.conv_module.batch_norm.weight\", \"musicfm_embeddings.musicfm.conformer.layers.7.conv_module.batch_norm.bias\", \"musicfm_embeddings.musicfm.conformer.layers.7.conv_module.batch_norm.running_mean\", \"musicfm_embeddings.musicfm.conformer.layers.7.conv_module.batch_norm.running_var\", \"musicfm_embeddings.musicfm.conformer.layers.7.conv_module.pointwise_conv2.weight\", \"musicfm_embeddings.musicfm.conformer.layers.7.ffn2_layer_norm.weight\", \"musicfm_embeddings.musicfm.conformer.layers.7.ffn2_layer_norm.bias\", \"musicfm_embeddings.musicfm.conformer.layers.7.ffn2.intermediate_dense.weight\", \"musicfm_embeddings.musicfm.conformer.layers.7.ffn2.intermediate_dense.bias\", \"musicfm_embeddings.musicfm.conformer.layers.7.ffn2.output_dense.weight\", \"musicfm_embeddings.musicfm.conformer.layers.7.ffn2.output_dense.bias\", \"musicfm_embeddings.musicfm.conformer.layers.7.final_layer_norm.weight\", \"musicfm_embeddings.musicfm.conformer.layers.7.final_layer_norm.bias\", \"musicfm_embeddings.musicfm.conformer.layers.8.ffn1_layer_norm.weight\", \"musicfm_embeddings.musicfm.conformer.layers.8.ffn1_layer_norm.bias\", \"musicfm_embeddings.musicfm.conformer.layers.8.ffn1.intermediate_dense.weight\", \"musicfm_embeddings.musicfm.conformer.layers.8.ffn1.intermediate_dense.bias\", \"musicfm_embeddings.musicfm.conformer.layers.8.ffn1.output_dense.weight\", \"musicfm_embeddings.musicfm.conformer.layers.8.ffn1.output_dense.bias\", \"musicfm_embeddings.musicfm.conformer.layers.8.self_attn_layer_norm.weight\", \"musicfm_embeddings.musicfm.conformer.layers.8.self_attn_layer_norm.bias\", \"musicfm_embeddings.musicfm.conformer.layers.8.self_attn.linear_q.weight\", \"musicfm_embeddings.musicfm.conformer.layers.8.self_attn.linear_q.bias\", \"musicfm_embeddings.musicfm.conformer.layers.8.self_attn.linear_k.weight\", \"musicfm_embeddings.musicfm.conformer.layers.8.self_attn.linear_k.bias\", \"musicfm_embeddings.musicfm.conformer.layers.8.self_attn.linear_v.weight\", \"musicfm_embeddings.musicfm.conformer.layers.8.self_attn.linear_v.bias\", \"musicfm_embeddings.musicfm.conformer.layers.8.self_attn.linear_out.weight\", \"musicfm_embeddings.musicfm.conformer.layers.8.self_attn.linear_out.bias\", \"musicfm_embeddings.musicfm.conformer.layers.8.conv_module.layer_norm.weight\", \"musicfm_embeddings.musicfm.conformer.layers.8.conv_module.layer_norm.bias\", \"musicfm_embeddings.musicfm.conformer.layers.8.conv_module.pointwise_conv1.weight\", \"musicfm_embeddings.musicfm.conformer.layers.8.conv_module.depthwise_conv.weight\", \"musicfm_embeddings.musicfm.conformer.layers.8.conv_module.batch_norm.weight\", \"musicfm_embeddings.musicfm.conformer.layers.8.conv_module.batch_norm.bias\", \"musicfm_embeddings.musicfm.conformer.layers.8.conv_module.batch_norm.running_mean\", \"musicfm_embeddings.musicfm.conformer.layers.8.conv_module.batch_norm.running_var\", \"musicfm_embeddings.musicfm.conformer.layers.8.conv_module.pointwise_conv2.weight\", \"musicfm_embeddings.musicfm.conformer.layers.8.ffn2_layer_norm.weight\", \"musicfm_embeddings.musicfm.conformer.layers.8.ffn2_layer_norm.bias\", \"musicfm_embeddings.musicfm.conformer.layers.8.ffn2.intermediate_dense.weight\", \"musicfm_embeddings.musicfm.conformer.layers.8.ffn2.intermediate_dense.bias\", \"musicfm_embeddings.musicfm.conformer.layers.8.ffn2.output_dense.weight\", \"musicfm_embeddings.musicfm.conformer.layers.8.ffn2.output_dense.bias\", \"musicfm_embeddings.musicfm.conformer.layers.8.final_layer_norm.weight\", \"musicfm_embeddings.musicfm.conformer.layers.8.final_layer_norm.bias\", \"musicfm_embeddings.musicfm.conformer.layers.9.ffn1_layer_norm.weight\", \"musicfm_embeddings.musicfm.conformer.layers.9.ffn1_layer_norm.bias\", \"musicfm_embeddings.musicfm.conformer.layers.9.ffn1.intermediate_dense.weight\", \"musicfm_embeddings.musicfm.conformer.layers.9.ffn1.intermediate_dense.bias\", \"musicfm_embeddings.musicfm.conformer.layers.9.ffn1.output_dense.weight\", \"musicfm_embeddings.musicfm.conformer.layers.9.ffn1.output_dense.bias\", \"musicfm_embeddings.musicfm.conformer.layers.9.self_attn_layer_norm.weight\", \"musicfm_embeddings.musicfm.conformer.layers.9.self_attn_layer_norm.bias\", \"musicfm_embeddings.musicfm.conformer.layers.9.self_attn.linear_q.weight\", \"musicfm_embeddings.musicfm.conformer.layers.9.self_attn.linear_q.bias\", \"musicfm_embeddings.musicfm.conformer.layers.9.self_attn.linear_k.weight\", \"musicfm_embeddings.musicfm.conformer.layers.9.self_attn.linear_k.bias\", \"musicfm_embeddings.musicfm.conformer.layers.9.self_attn.linear_v.weight\", \"musicfm_embeddings.musicfm.conformer.layers.9.self_attn.linear_v.bias\", \"musicfm_embeddings.musicfm.conformer.layers.9.self_attn.linear_out.weight\", \"musicfm_embeddings.musicfm.conformer.layers.9.self_attn.linear_out.bias\", \"musicfm_embeddings.musicfm.conformer.layers.9.conv_module.layer_norm.weight\", \"musicfm_embeddings.musicfm.conformer.layers.9.conv_module.layer_norm.bias\", \"musicfm_embeddings.musicfm.conformer.layers.9.conv_module.pointwise_conv1.weight\", \"musicfm_embeddings.musicfm.conformer.layers.9.conv_module.depthwise_conv.weight\", \"musicfm_embeddings.musicfm.conformer.layers.9.conv_module.batch_norm.weight\", \"musicfm_embeddings.musicfm.conformer.layers.9.conv_module.batch_norm.bias\", \"musicfm_embeddings.musicfm.conformer.layers.9.conv_module.batch_norm.running_mean\", \"musicfm_embeddings.musicfm.conformer.layers.9.conv_module.batch_norm.running_var\", \"musicfm_embeddings.musicfm.conformer.layers.9.conv_module.pointwise_conv2.weight\", \"musicfm_embeddings.musicfm.conformer.layers.9.ffn2_layer_norm.weight\", \"musicfm_embeddings.musicfm.conformer.layers.9.ffn2_layer_norm.bias\", \"musicfm_embeddings.musicfm.conformer.layers.9.ffn2.intermediate_dense.weight\", \"musicfm_embeddings.musicfm.conformer.layers.9.ffn2.intermediate_dense.bias\", \"musicfm_embeddings.musicfm.conformer.layers.9.ffn2.output_dense.weight\", \"musicfm_embeddings.musicfm.conformer.layers.9.ffn2.output_dense.bias\", \"musicfm_embeddings.musicfm.conformer.layers.9.final_layer_norm.weight\", \"musicfm_embeddings.musicfm.conformer.layers.9.final_layer_norm.bias\", \"musicfm_embeddings.musicfm.conformer.layers.10.ffn1_layer_norm.weight\", \"musicfm_embeddings.musicfm.conformer.layers.10.ffn1_layer_norm.bias\", \"musicfm_embeddings.musicfm.conformer.layers.10.ffn1.intermediate_dense.weight\", \"musicfm_embeddings.musicfm.conformer.layers.10.ffn1.intermediate_dense.bias\", \"musicfm_embeddings.musicfm.conformer.layers.10.ffn1.output_dense.weight\", \"musicfm_embeddings.musicfm.conformer.layers.10.ffn1.output_dense.bias\", \"musicfm_embeddings.musicfm.conformer.layers.10.self_attn_layer_norm.weight\", \"musicfm_embeddings.musicfm.conformer.layers.10.self_attn_layer_norm.bias\", \"musicfm_embeddings.musicfm.conformer.layers.10.self_attn.linear_q.weight\", \"musicfm_embeddings.musicfm.conformer.layers.10.self_attn.linear_q.bias\", \"musicfm_embeddings.musicfm.conformer.layers.10.self_attn.linear_k.weight\", \"musicfm_embeddings.musicfm.conformer.layers.10.self_attn.linear_k.bias\", \"musicfm_embeddings.musicfm.conformer.layers.10.self_attn.linear_v.weight\", \"musicfm_embeddings.musicfm.conformer.layers.10.self_attn.linear_v.bias\", \"musicfm_embeddings.musicfm.conformer.layers.10.self_attn.linear_out.weight\", \"musicfm_embeddings.musicfm.conformer.layers.10.self_attn.linear_out.bias\", \"musicfm_embeddings.musicfm.conformer.layers.10.conv_module.layer_norm.weight\", \"musicfm_embeddings.musicfm.conformer.layers.10.conv_module.layer_norm.bias\", \"musicfm_embeddings.musicfm.conformer.layers.10.conv_module.pointwise_conv1.weight\", \"musicfm_embeddings.musicfm.conformer.layers.10.conv_module.depthwise_conv.weight\", \"musicfm_embeddings.musicfm.conformer.layers.10.conv_module.batch_norm.weight\", \"musicfm_embeddings.musicfm.conformer.layers.10.conv_module.batch_norm.bias\", \"musicfm_embeddings.musicfm.conformer.layers.10.conv_module.batch_norm.running_mean\", \"musicfm_embeddings.musicfm.conformer.layers.10.conv_module.batch_norm.running_var\", \"musicfm_embeddings.musicfm.conformer.layers.10.conv_module.pointwise_conv2.weight\", \"musicfm_embeddings.musicfm.conformer.layers.10.ffn2_layer_norm.weight\", \"musicfm_embeddings.musicfm.conformer.layers.10.ffn2_layer_norm.bias\", \"musicfm_embeddings.musicfm.conformer.layers.10.ffn2.intermediate_dense.weight\", \"musicfm_embeddings.musicfm.conformer.layers.10.ffn2.intermediate_dense.bias\", \"musicfm_embeddings.musicfm.conformer.layers.10.ffn2.output_dense.weight\", \"musicfm_embeddings.musicfm.conformer.layers.10.ffn2.output_dense.bias\", \"musicfm_embeddings.musicfm.conformer.layers.10.final_layer_norm.weight\", \"musicfm_embeddings.musicfm.conformer.layers.10.final_layer_norm.bias\", \"musicfm_embeddings.musicfm.conformer.layers.11.ffn1_layer_norm.weight\", \"musicfm_embeddings.musicfm.conformer.layers.11.ffn1_layer_norm.bias\", \"musicfm_embeddings.musicfm.conformer.layers.11.ffn1.intermediate_dense.weight\", \"musicfm_embeddings.musicfm.conformer.layers.11.ffn1.intermediate_dense.bias\", \"musicfm_embeddings.musicfm.conformer.layers.11.ffn1.output_dense.weight\", \"musicfm_embeddings.musicfm.conformer.layers.11.ffn1.output_dense.bias\", \"musicfm_embeddings.musicfm.conformer.layers.11.self_attn_layer_norm.weight\", \"musicfm_embeddings.musicfm.conformer.layers.11.self_attn_layer_norm.bias\", \"musicfm_embeddings.musicfm.conformer.layers.11.self_attn.linear_q.weight\", \"musicfm_embeddings.musicfm.conformer.layers.11.self_attn.linear_q.bias\", \"musicfm_embeddings.musicfm.conformer.layers.11.self_attn.linear_k.weight\", \"musicfm_embeddings.musicfm.conformer.layers.11.self_attn.linear_k.bias\", \"musicfm_embeddings.musicfm.conformer.layers.11.self_attn.linear_v.weight\", \"musicfm_embeddings.musicfm.conformer.layers.11.self_attn.linear_v.bias\", \"musicfm_embeddings.musicfm.conformer.layers.11.self_attn.linear_out.weight\", \"musicfm_embeddings.musicfm.conformer.layers.11.self_attn.linear_out.bias\", \"musicfm_embeddings.musicfm.conformer.layers.11.conv_module.layer_norm.weight\", \"musicfm_embeddings.musicfm.conformer.layers.11.conv_module.layer_norm.bias\", \"musicfm_embeddings.musicfm.conformer.layers.11.conv_module.pointwise_conv1.weight\", \"musicfm_embeddings.musicfm.conformer.layers.11.conv_module.depthwise_conv.weight\", \"musicfm_embeddings.musicfm.conformer.layers.11.conv_module.batch_norm.weight\", \"musicfm_embeddings.musicfm.conformer.layers.11.conv_module.batch_norm.bias\", \"musicfm_embeddings.musicfm.conformer.layers.11.conv_module.batch_norm.running_mean\", \"musicfm_embeddings.musicfm.conformer.layers.11.conv_module.batch_norm.running_var\", \"musicfm_embeddings.musicfm.conformer.layers.11.conv_module.pointwise_conv2.weight\", \"musicfm_embeddings.musicfm.conformer.layers.11.ffn2_layer_norm.weight\", \"musicfm_embeddings.musicfm.conformer.layers.11.ffn2_layer_norm.bias\", \"musicfm_embeddings.musicfm.conformer.layers.11.ffn2.intermediate_dense.weight\", \"musicfm_embeddings.musicfm.conformer.layers.11.ffn2.intermediate_dense.bias\", \"musicfm_embeddings.musicfm.conformer.layers.11.ffn2.output_dense.weight\", \"musicfm_embeddings.musicfm.conformer.layers.11.ffn2.output_dense.bias\", \"musicfm_embeddings.musicfm.conformer.layers.11.final_layer_norm.weight\", \"musicfm_embeddings.musicfm.conformer.layers.11.final_layer_norm.bias\", \"musicfm_embeddings.musicfm.linear.weight\", \"musicfm_embeddings.musicfm.linear.bias\", \"linear1.weight\", \"linear1.bias\", \"linear2.weight\", \"linear2.bias\". \n\tUnexpected key(s) in state_dict: \"embeddings.conv0.weight\", \"embeddings.conv0.bias\", \"embeddings.conv1.weight\", \"embeddings.conv1.bias\", \"embeddings.conv2.weight\", \"embeddings.conv2.bias\", \"embeddings.norm.weight\", \"embeddings.norm.bias\". "
     ]
    }
   ],
   "source": [
    "\n",
    "analyze(\n",
    "    paths=['/home/223C1851Rodrigo/all_in_one/src/allin1/training/data/harmonix/tracks/croped_hardmix_mp3_99.mp3', '/home/223C1851Rodrigo/all_in_one/src/allin1/training/data/harmonix/tracks/croped_hardmix_mp3_98.mp3'],\n",
    "    out_dir='./output',\n",
    "    visualize=False,\n",
    "    sonify=False,\n",
    "    include_embeddings=True,  # Make sure embeddings are included\n",
    ")"
   ]
  },
  {
   "cell_type": "code",
   "execution_count": null,
   "id": "f1906f66-4646-4e62-bdbc-a859cbf88bd0",
   "metadata": {},
   "outputs": [],
   "source": []
  },
  {
   "cell_type": "code",
   "execution_count": null,
   "id": "da667354-3f82-4efb-bf35-b3d4389db60c",
   "metadata": {},
   "outputs": [],
   "source": []
  },
  {
   "cell_type": "code",
   "execution_count": 10,
   "id": "dc8221fc-12ba-4b0c-8941-061ea8538af9",
   "metadata": {
    "scrolled": true
   },
   "outputs": [
    {
     "data": {
      "text/plain": [
       "MusicFM25Hz(\n",
       "  (preprocessor_melspec_2048): MelSTFT(\n",
       "    (mel_stft): MelSpectrogram(\n",
       "      (spectrogram): Spectrogram()\n",
       "      (mel_scale): MelScale()\n",
       "    )\n",
       "    (amplitude_to_db): AmplitudeToDB()\n",
       "  )\n",
       "  (quantizer_melspec_2048_0): RandomProjectionQuantizer()\n",
       "  (conv): Conv2dSubsampling(\n",
       "    (conv): Sequential(\n",
       "      (0): Res2dModule(\n",
       "        (conv1): Conv2d(1, 512, kernel_size=(3, 3), stride=(2, 2), padding=(1, 1))\n",
       "        (bn1): BatchNorm2d(512, eps=1e-05, momentum=0.1, affine=True, track_running_stats=True)\n",
       "        (conv2): Conv2d(512, 512, kernel_size=(3, 3), stride=(1, 1), padding=(1, 1))\n",
       "        (bn2): BatchNorm2d(512, eps=1e-05, momentum=0.1, affine=True, track_running_stats=True)\n",
       "        (relu): ReLU()\n",
       "        (conv3): Conv2d(1, 512, kernel_size=(3, 3), stride=(2, 2), padding=(1, 1))\n",
       "        (bn3): BatchNorm2d(512, eps=1e-05, momentum=0.1, affine=True, track_running_stats=True)\n",
       "      )\n",
       "      (1): Res2dModule(\n",
       "        (conv1): Conv2d(512, 512, kernel_size=(3, 3), stride=(2, 2), padding=(1, 1))\n",
       "        (bn1): BatchNorm2d(512, eps=1e-05, momentum=0.1, affine=True, track_running_stats=True)\n",
       "        (conv2): Conv2d(512, 512, kernel_size=(3, 3), stride=(1, 1), padding=(1, 1))\n",
       "        (bn2): BatchNorm2d(512, eps=1e-05, momentum=0.1, affine=True, track_running_stats=True)\n",
       "        (relu): ReLU()\n",
       "        (conv3): Conv2d(512, 512, kernel_size=(3, 3), stride=(2, 2), padding=(1, 1))\n",
       "        (bn3): BatchNorm2d(512, eps=1e-05, momentum=0.1, affine=True, track_running_stats=True)\n",
       "      )\n",
       "    )\n",
       "    (linear): Linear(in_features=16384, out_features=1024, bias=True)\n",
       "  )\n",
       "  (conformer): Wav2Vec2ConformerEncoder(\n",
       "    (embed_positions): Wav2Vec2ConformerRotaryPositionalEmbedding()\n",
       "    (pos_conv_embed): Wav2Vec2ConformerPositionalConvEmbedding(\n",
       "      (conv): ParametrizedConv1d(\n",
       "        1024, 1024, kernel_size=(128,), stride=(1,), padding=(64,), groups=16\n",
       "        (parametrizations): ModuleDict(\n",
       "          (weight): ParametrizationList(\n",
       "            (0): _WeightNorm()\n",
       "          )\n",
       "        )\n",
       "      )\n",
       "      (padding): Wav2Vec2ConformerSamePadLayer()\n",
       "      (activation): GELUActivation()\n",
       "    )\n",
       "    (layer_norm): LayerNorm((1024,), eps=1e-05, elementwise_affine=True)\n",
       "    (dropout): Dropout(p=0.1, inplace=False)\n",
       "    (layers): ModuleList(\n",
       "      (0-11): 12 x Wav2Vec2ConformerEncoderLayer(\n",
       "        (ffn1_layer_norm): LayerNorm((1024,), eps=1e-05, elementwise_affine=True)\n",
       "        (ffn1): Wav2Vec2ConformerFeedForward(\n",
       "          (intermediate_dropout): Dropout(p=0.1, inplace=False)\n",
       "          (intermediate_dense): Linear(in_features=1024, out_features=4096, bias=True)\n",
       "          (intermediate_act_fn): SiLU()\n",
       "          (output_dense): Linear(in_features=4096, out_features=1024, bias=True)\n",
       "          (output_dropout): Dropout(p=0.1, inplace=False)\n",
       "        )\n",
       "        (self_attn_layer_norm): LayerNorm((1024,), eps=1e-05, elementwise_affine=True)\n",
       "        (self_attn_dropout): Dropout(p=0.1, inplace=False)\n",
       "        (self_attn): Wav2Vec2ConformerSelfAttention(\n",
       "          (linear_q): Linear(in_features=1024, out_features=1024, bias=True)\n",
       "          (linear_k): Linear(in_features=1024, out_features=1024, bias=True)\n",
       "          (linear_v): Linear(in_features=1024, out_features=1024, bias=True)\n",
       "          (linear_out): Linear(in_features=1024, out_features=1024, bias=True)\n",
       "          (dropout): Dropout(p=0.1, inplace=False)\n",
       "        )\n",
       "        (conv_module): Wav2Vec2ConformerConvolutionModule(\n",
       "          (layer_norm): LayerNorm((1024,), eps=1e-05, elementwise_affine=True)\n",
       "          (pointwise_conv1): Conv1d(1024, 2048, kernel_size=(1,), stride=(1,), bias=False)\n",
       "          (glu): GLU(dim=1)\n",
       "          (depthwise_conv): Conv1d(1024, 1024, kernel_size=(31,), stride=(1,), padding=(15,), groups=1024, bias=False)\n",
       "          (batch_norm): BatchNorm1d(1024, eps=1e-05, momentum=0.1, affine=True, track_running_stats=True)\n",
       "          (activation): SiLU()\n",
       "          (pointwise_conv2): Conv1d(1024, 1024, kernel_size=(1,), stride=(1,), bias=False)\n",
       "          (dropout): Dropout(p=0.1, inplace=False)\n",
       "        )\n",
       "        (ffn2_layer_norm): LayerNorm((1024,), eps=1e-05, elementwise_affine=True)\n",
       "        (ffn2): Wav2Vec2ConformerFeedForward(\n",
       "          (intermediate_dropout): Dropout(p=0.1, inplace=False)\n",
       "          (intermediate_dense): Linear(in_features=1024, out_features=4096, bias=True)\n",
       "          (intermediate_act_fn): SiLU()\n",
       "          (output_dense): Linear(in_features=4096, out_features=1024, bias=True)\n",
       "          (output_dropout): Dropout(p=0.1, inplace=False)\n",
       "        )\n",
       "        (final_layer_norm): LayerNorm((1024,), eps=1e-05, elementwise_affine=True)\n",
       "      )\n",
       "    )\n",
       "  )\n",
       "  (linear): Linear(in_features=1024, out_features=4096, bias=True)\n",
       "  (loss): CrossEntropyLoss()\n",
       ")"
      ]
     },
     "execution_count": 10,
     "metadata": {},
     "output_type": "execute_result"
    }
   ],
   "source": [
    "HOME_PATH = \"/home/223C1851Rodrigo\" # path where you cloned musicfm\n",
    "\n",
    "import os\n",
    "import sys\n",
    "import torch\n",
    "\n",
    "sys.path.append(HOME_PATH)\n",
    "from musicfm.model.musicfm_25hz import MusicFM25Hz\n",
    "\n",
    "# load MusicFM\n",
    "musicfm = MusicFM25Hz(\n",
    "    is_flash=False,\n",
    "    stat_path=os.path.join(\"/home/223C1851Rodrigo\" , \"musicfm\", \"data\", \"msd_stats.json\"),\n",
    "    model_path=os.path.join(\"/home/223C1851Rodrigo\" , \"musicfm\", \"data\", \"pretrained_msd.pt\"),\n",
    ")\n",
    "\n",
    "# to GPUs Esto sigue matándo el código\n",
    "# wav = wav.cuda()\n",
    "# musicfm = musicfm.cuda()\n",
    "musicfm.eval()"
   ]
  },
  {
   "cell_type": "code",
   "execution_count": 11,
   "id": "8b211ae4-702e-4d76-b493-2aabb0e41fed",
   "metadata": {},
   "outputs": [],
   "source": [
    "##usamos para cargar elementos de audio mp3 de FMA\n",
    "##usamos para cargar elementos de audio mp3 de FMA\n",
    "\n",
    "def formato_entrada_musicfm(waveform,sample_rate):\n",
    "    if sample_rate != 24000:\n",
    "        waveform = torchaudio.transforms.Resample(orig_freq=sample_rate, new_freq=24000)(waveform)\n",
    "# Ensure the waveform is at the expected length (2 channels, estereo)\n",
    "    # if waveform.size(0) == 1:\n",
    "    #     waveform = waveform.repeat(2, 1)\n",
    "        \n",
    "    return waveform, sample_rate\n",
    "\n",
    "\n",
    "def carga_Fma(audio_path):\n",
    "    waveform, samplerate = torchaudio.load(audio_path)\n",
    "    waveform=torch.mean(waveform,dim=0).unsqueeze(0)\n",
    "    waveform_corrected, samplerate_corrected = formato_entrada_musicfm(waveform,samplerate)\n",
    "    return  waveform_corrected, samplerate_corrected\n"
   ]
  },
  {
   "cell_type": "code",
   "execution_count": 12,
   "id": "8e33a68e-5f91-4459-ab2c-7bdb6ceb3ca4",
   "metadata": {},
   "outputs": [
    {
     "name": "stderr",
     "output_type": "stream",
     "text": [
      "/home/223C1851Rodrigo/.local/lib/python3.10/site-packages/torch/cuda/__init__.py:619: UserWarning: Can't initialize NVML\n",
      "  warnings.warn(\"Can't initialize NVML\")\n"
     ]
    },
    {
     "name": "stdout",
     "output_type": "stream",
     "text": [
      "melspec_2048\n",
      "torch.Size([1, 751, 1024])\n"
     ]
    },
    {
     "data": {
      "text/plain": [
       "tensor([[[ 0.4808,  0.1600,  0.0292,  ..., -0.3777,  0.8539,  1.8745],\n",
       "         [ 0.6661,  0.1247,  0.0878,  ..., -0.0090,  0.5513,  1.1410],\n",
       "         [ 0.3887,  0.2641,  0.5562,  ...,  0.9978, -0.2708,  1.3152],\n",
       "         ...,\n",
       "         [ 0.7298, -0.0139,  0.3981,  ...,  0.3455, -0.2503, -0.1010],\n",
       "         [ 1.3760,  0.0167,  0.4174,  ...,  0.4431,  0.3981, -1.4031],\n",
       "         [ 0.9005, -0.1004,  0.7209,  ...,  1.0528, -0.5881, -0.3511]]],\n",
       "       grad_fn=<NativeLayerNormBackward0>)"
      ]
     },
     "execution_count": 12,
     "metadata": {},
     "output_type": "execute_result"
    }
   ],
   "source": [
    "fma5_waveform, fma5_samplerate = carga_Fma('/home/223C1851Rodrigo/all_in_one/src/allin1/training/data/harmonix/tracks/croped_hardmix_mp3_99.mp3' )\n",
    "logits, hidden_emb, losses, accuracies = musicfm(fma5_waveform) #traga spectrogramas no wavs recordar (good Harmonix), falso¿?\n",
    "print(hidden_emb[7].shape)\n",
    "hidden_emb[7]"
   ]
  },
  {
   "cell_type": "code",
   "execution_count": 13,
   "id": "045dc796-cd32-4468-a3ee-440875ba27b5",
   "metadata": {},
   "outputs": [
    {
     "name": "stdout",
     "output_type": "stream",
     "text": [
      "melspec_2048\n",
      "torch.Size([1, 751, 1024])\n"
     ]
    },
    {
     "data": {
      "text/plain": [
       "tensor([[[ 1.9120,  0.2119, -0.7641,  ...,  1.8319,  1.0254,  1.3669],\n",
       "         [ 1.7642, -0.3375, -0.6872,  ...,  1.9597,  0.3186, -0.1277],\n",
       "         [ 1.1573, -0.7366, -0.5988,  ...,  1.9260, -0.0933,  0.0451],\n",
       "         ...,\n",
       "         [ 1.3670,  0.0795,  0.6587,  ...,  0.9206,  0.6729, -2.1888],\n",
       "         [ 2.0818,  0.1701, -0.1376,  ..., -0.4713,  0.4664,  0.8806],\n",
       "         [ 1.5981,  0.1110,  0.2514,  ..., -2.3665,  0.1133, -2.8234]]],\n",
       "       grad_fn=<NativeLayerNormBackward0>)"
      ]
     },
     "execution_count": 13,
     "metadata": {},
     "output_type": "execute_result"
    }
   ],
   "source": [
    "fma5_waveform, fma5_samplerate = carga_Fma('/home/223C1851Rodrigo/all_in_one/src/allin1/training/data/harmonix/tracks/croped_hardmix_mp3_98.mp3' )\n",
    "logits, hidden_emb, losses, accuracies = musicfm(fma5_waveform) #traga spectrogramas no wavs recordar (good Harmonix), falso¿?\n",
    "print(hidden_emb[7].shape)\n",
    "hidden_emb[7]"
   ]
  }
 ],
 "metadata": {
  "kernelspec": {
   "display_name": "Python 3 (ipykernel)",
   "language": "python",
   "name": "python3"
  },
  "language_info": {
   "codemirror_mode": {
    "name": "ipython",
    "version": 3
   },
   "file_extension": ".py",
   "mimetype": "text/x-python",
   "name": "python",
   "nbconvert_exporter": "python",
   "pygments_lexer": "ipython3",
   "version": "3.10.12"
  }
 },
 "nbformat": 4,
 "nbformat_minor": 5
}
